{
  "nbformat": 4,
  "nbformat_minor": 0,
  "metadata": {
    "colab": {
      "name": "cifar10-84%.ipynb",
      "provenance": [],
      "collapsed_sections": [],
      "include_colab_link": true
    },
    "kernelspec": {
      "name": "python3",
      "display_name": "Python 3"
    },
    "language_info": {
      "name": "python"
    },
    "accelerator": "GPU"
  },
  "cells": [
    {
      "cell_type": "markdown",
      "metadata": {
        "id": "view-in-github",
        "colab_type": "text"
      },
      "source": [
        "<a href=\"https://colab.research.google.com/github/sedanurozer/cifar10/blob/main/cifar10_84_.ipynb\" target=\"_parent\"><img src=\"https://colab.research.google.com/assets/colab-badge.svg\" alt=\"Open In Colab\"/></a>"
      ]
    },
    {
      "cell_type": "code",
      "metadata": {
        "id": "9NtzKqWBRk6-"
      },
      "source": [
        "import tensorflow as tf\n",
        "import matplotlib.pyplot as plt\n",
        "from tensorflow.keras import layers\n",
        "from keras.models import Sequential\n",
        "from keras.layers import Dense, Dropout, Activation, Flatten\n",
        "from keras.layers import Conv2D, MaxPooling2D\n",
        "from keras.layers import BatchNormalization, DepthwiseConv2D"
      ],
      "execution_count": 1,
      "outputs": []
    },
    {
      "cell_type": "code",
      "metadata": {
        "id": "46gGPx-CRyAc"
      },
      "source": [
        "from tensorflow.keras.datasets import cifar10"
      ],
      "execution_count": 2,
      "outputs": []
    },
    {
      "cell_type": "code",
      "metadata": {
        "colab": {
          "base_uri": "https://localhost:8080/"
        },
        "id": "T8JS9dP2Rzdf",
        "outputId": "191f92b2-2a83-4e2f-f800-e0e48d218614"
      },
      "source": [
        "# setting class names\n",
        "class_names=['airplane','automobile','bird','cat','deer','dog','frog','horse','ship','truck']\n",
        "#loading the dataset\n",
        "(x_train,y_train),(x_test,y_test)=cifar10.load_data()"
      ],
      "execution_count": 3,
      "outputs": [
        {
          "output_type": "stream",
          "text": [
            "Downloading data from https://www.cs.toronto.edu/~kriz/cifar-10-python.tar.gz\n",
            "170500096/170498071 [==============================] - 6s 0us/step\n"
          ],
          "name": "stdout"
        }
      ]
    },
    {
      "cell_type": "code",
      "metadata": {
        "colab": {
          "base_uri": "https://localhost:8080/"
        },
        "id": "RIxy3prER5-R",
        "outputId": "47279343-f04c-4f2f-f0a8-9f8ae90bfe45"
      },
      "source": [
        "x_train=x_train/255.0\n",
        "x_train.shape"
      ],
      "execution_count": 4,
      "outputs": [
        {
          "output_type": "execute_result",
          "data": {
            "text/plain": [
              "(50000, 32, 32, 3)"
            ]
          },
          "metadata": {
            "tags": []
          },
          "execution_count": 4
        }
      ]
    },
    {
      "cell_type": "code",
      "metadata": {
        "colab": {
          "base_uri": "https://localhost:8080/"
        },
        "id": "s60dNNLBR8Eb",
        "outputId": "5596608b-4965-49be-d8fb-a2296eb21f78"
      },
      "source": [
        "x_test=x_test/255.0\n",
        "x_test.shape"
      ],
      "execution_count": 5,
      "outputs": [
        {
          "output_type": "execute_result",
          "data": {
            "text/plain": [
              "(10000, 32, 32, 3)"
            ]
          },
          "metadata": {
            "tags": []
          },
          "execution_count": 5
        }
      ]
    },
    {
      "cell_type": "code",
      "metadata": {
        "colab": {
          "base_uri": "https://localhost:8080/",
          "height": 283
        },
        "id": "pH78k8TuR_jS",
        "outputId": "b3835ff6-0607-4632-89cb-cba8e80b1f52"
      },
      "source": [
        "plt.imshow(x_test[215])"
      ],
      "execution_count": 6,
      "outputs": [
        {
          "output_type": "execute_result",
          "data": {
            "text/plain": [
              "<matplotlib.image.AxesImage at 0x7fde9c705590>"
            ]
          },
          "metadata": {
            "tags": []
          },
          "execution_count": 6
        },
        {
          "output_type": "display_data",
          "data": {
            "image/png": "[encoded data removed]",
            "text/plain": [
              "<Figure size 432x288 with 1 Axes>"
            ]
          },
          "metadata": {
            "tags": [],
            "needs_background": "light"
          }
        }
      ]
    },
    {
      "cell_type": "code",
      "metadata": {
        "id": "rCnQFu_XSFgI"
      },
      "source": [
        "model_layers = [\n",
        "    Conv2D(32, (3, 3), activation='relu', strides=(1,1), padding='same', input_shape=(32, 32, 3)),\n",
        "    BatchNormalization(),\n",
        "    DepthwiseConv2D(kernel_size=(3,3), strides=(1, 1), padding='same', activation='relu', depth_multiplier=3),\n",
        "#     MaxPooling2D(2, 2),\n",
        "    Dropout(rate =0.1),\n",
        "    \n",
        "    \n",
        "    Conv2D(64, (3, 3), activation='relu', strides=(2, 2), padding='same'),\n",
        "    BatchNormalization(),\n",
        "    DepthwiseConv2D(kernel_size=(3,3), strides=(1, 1), padding='same', activation='relu'),\n",
        "#     MaxPooling2D(2, 2),\n",
        "    Dropout(rate = 0.1),\n",
        "    \n",
        "    Conv2D(128, (3, 3), activation='relu', strides=(1, 1), padding='same'),\n",
        "    BatchNormalization(),\n",
        "    DepthwiseConv2D(kernel_size=(3,3), strides=(1, 1), padding='same', activation='relu'),\n",
        "#     MaxPooling2D(2, 2),\n",
        "    Dropout(rate = 0.4),\n",
        "    \n",
        "    Conv2D(128, (3, 3), activation='relu', strides=(1, 1), padding='same'),\n",
        "    BatchNormalization(),\n",
        "    DepthwiseConv2D(kernel_size=(1,1), strides=(1, 1), padding='same', activation='relu'),\n",
        "    \n",
        "    \n",
        "    Conv2D(256, (3, 3), activation='relu', strides=(2, 2), padding='same'),\n",
        "    BatchNormalization(),\n",
        "    DepthwiseConv2D(kernel_size=(3,3), strides=(1, 1), padding='same', activation='relu'),\n",
        "    \n",
        "    \n",
        "    \n",
        "    Conv2D(512, (1, 1), activation='relu', strides=(2, 2), padding='same'),\n",
        "    BatchNormalization(),\n",
        "    DepthwiseConv2D(kernel_size=(1,1), strides=(1, 1), padding='same', activation='relu'),\n",
        "    \n",
        "#     MaxPooling2D(2, 2),\n",
        "    Dropout(rate = 0.4),\n",
        "    \n",
        "    Flatten(),\n",
        "    Dropout(rate = 0.3),\n",
        "    Dense(2048, activation='relu'),\n",
        "    Dropout(rate = 0.3),\n",
        "    Dense(512, activation='relu'),\n",
        "    Dropout(rate = 0.4),\n",
        "    Dense(10, activation='softmax')\n",
        "] \n",
        "model = Sequential(model_layers)"
      ],
      "execution_count": 7,
      "outputs": []
    },
    {
      "cell_type": "code",
      "metadata": {
        "id": "0yMwZTwESlna"
      },
      "source": [
        "model.compile(loss=\"sparse_categorical_crossentropy\", optimizer=\"Adam\", metrics=[\"sparse_categorical_accuracy\"])"
      ],
      "execution_count": 8,
      "outputs": []
    },
    {
      "cell_type": "code",
      "metadata": {
        "colab": {
          "base_uri": "https://localhost:8080/"
        },
        "id": "MnQg0p6bSnNO",
        "outputId": "b2ad9f27-7ac3-4a2c-ebf0-26e79d57d173"
      },
      "source": [
        "model.fit(x_train,y_train,epochs=20)"
      ],
      "execution_count": 9,
      "outputs": [
        {
          "output_type": "stream",
          "text": [
            "Epoch 1/20\n",
            "1563/1563 [==============================] - 56s 16ms/step - loss: 1.6187 - sparse_categorical_accuracy: 0.4042\n",
            "Epoch 2/20\n",
            "1563/1563 [==============================] - 25s 16ms/step - loss: 1.0250 - sparse_categorical_accuracy: 0.6411\n",
            "Epoch 3/20\n",
            "1563/1563 [==============================] - 25s 16ms/step - loss: 0.8730 - sparse_categorical_accuracy: 0.6936\n",
            "Epoch 4/20\n",
            "1563/1563 [==============================] - 25s 16ms/step - loss: 0.7848 - sparse_categorical_accuracy: 0.7289\n",
            "Epoch 5/20\n",
            "1563/1563 [==============================] - 25s 16ms/step - loss: 0.7107 - sparse_categorical_accuracy: 0.7568\n",
            "Epoch 6/20\n",
            "1563/1563 [==============================] - 25s 16ms/step - loss: 0.6587 - sparse_categorical_accuracy: 0.7714\n",
            "Epoch 7/20\n",
            "1563/1563 [==============================] - 25s 16ms/step - loss: 0.6191 - sparse_categorical_accuracy: 0.7846\n",
            "Epoch 8/20\n",
            "1563/1563 [==============================] - 25s 16ms/step - loss: 0.5789 - sparse_categorical_accuracy: 0.7999\n",
            "Epoch 9/20\n",
            "1563/1563 [==============================] - 25s 16ms/step - loss: 0.5495 - sparse_categorical_accuracy: 0.8106\n",
            "Epoch 10/20\n",
            "1563/1563 [==============================] - 25s 16ms/step - loss: 0.5258 - sparse_categorical_accuracy: 0.8193\n",
            "Epoch 11/20\n",
            "1563/1563 [==============================] - 25s 16ms/step - loss: 0.5005 - sparse_categorical_accuracy: 0.8259\n",
            "Epoch 12/20\n",
            "1563/1563 [==============================] - 25s 16ms/step - loss: 0.4889 - sparse_categorical_accuracy: 0.8316\n",
            "Epoch 13/20\n",
            "1563/1563 [==============================] - 25s 16ms/step - loss: 0.4598 - sparse_categorical_accuracy: 0.8408\n",
            "Epoch 14/20\n",
            "1563/1563 [==============================] - 25s 16ms/step - loss: 0.4566 - sparse_categorical_accuracy: 0.8447\n",
            "Epoch 15/20\n",
            "1563/1563 [==============================] - 25s 16ms/step - loss: 0.4360 - sparse_categorical_accuracy: 0.8486\n",
            "Epoch 16/20\n",
            "1563/1563 [==============================] - 25s 16ms/step - loss: 0.4148 - sparse_categorical_accuracy: 0.8572\n",
            "Epoch 17/20\n",
            "1563/1563 [==============================] - 25s 16ms/step - loss: 0.3994 - sparse_categorical_accuracy: 0.8616\n",
            "Epoch 18/20\n",
            "1563/1563 [==============================] - 25s 16ms/step - loss: 0.3914 - sparse_categorical_accuracy: 0.8659\n",
            "Epoch 19/20\n",
            "1563/1563 [==============================] - 25s 16ms/step - loss: 0.3811 - sparse_categorical_accuracy: 0.8694\n",
            "Epoch 20/20\n",
            "1563/1563 [==============================] - 25s 16ms/step - loss: 0.3767 - sparse_categorical_accuracy: 0.8713\n"
          ],
          "name": "stdout"
        },
        {
          "output_type": "execute_result",
          "data": {
            "text/plain": [
              "<tensorflow.python.keras.callbacks.History at 0x7fde500edcd0>"
            ]
          },
          "metadata": {
            "tags": []
          },
          "execution_count": 9
        }
      ]
    },
    {
      "cell_type": "code",
      "metadata": {
        "colab": {
          "base_uri": "https://localhost:8080/"
        },
        "id": "022fWj7ITUkX",
        "outputId": "2679c5e7-e0be-49c7-9e65-d0f6387f5f45"
      },
      "source": [
        "test_loss, test_accuracy = model.evaluate(x_test, y_test)"
      ],
      "execution_count": 11,
      "outputs": [
        {
          "output_type": "stream",
          "text": [
            "313/313 [==============================] - 2s 4ms/step - loss: 0.4808 - sparse_categorical_accuracy: 0.8426\n"
          ],
          "name": "stdout"
        }
      ]
    },
    {
      "cell_type": "code",
      "metadata": {
        "colab": {
          "base_uri": "https://localhost:8080/"
        },
        "id": "k_oeFvpSTYIO",
        "outputId": "f05d5b84-8d14-4db0-f3be-2eafc19cbfa7"
      },
      "source": [
        "print(\"Test accuracy: {}\".format(test_accuracy*100))"
      ],
      "execution_count": 12,
      "outputs": [
        {
          "output_type": "stream",
          "text": [
            "Test accuracy: 84.25999879837036\n"
          ],
          "name": "stdout"
        }
      ]
    }
  ]
}