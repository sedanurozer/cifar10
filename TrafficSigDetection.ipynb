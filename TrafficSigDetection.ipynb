{
  "nbformat": 4,
  "nbformat_minor": 0,
  "metadata": {
    "colab": {
      "name": "TrafficSigDetection.ipynb",
      "provenance": [],
      "collapsed_sections": [],
      "authorship_tag": "ABX9TyM9FUtFCkKcCSKWBBElxwVX",
      "include_colab_link": true
    },
    "kernelspec": {
      "name": "python3",
      "display_name": "Python 3"
    },
    "language_info": {
      "name": "python"
    },
    "accelerator": "GPU"
  },
  "cells": [
    {
      "cell_type": "markdown",
      "metadata": {
        "id": "view-in-github",
        "colab_type": "text"
      },
      "source": [
        "<a href=\"https://colab.research.google.com/github/sedanurozer/cifar10/blob/main/TrafficSigDetection.ipynb\" target=\"_parent\"><img src=\"https://colab.research.google.com/assets/colab-badge.svg\" alt=\"Open In Colab\"/></a>"
      ]
    },
    {
      "cell_type": "code",
      "metadata": {
        "id": "iAHpf7COeWjf"
      },
      "source": [
        "import numpy as np \n",
        "import pandas as pd\n",
        "import matplotlib.pyplot as plt\n",
        "import tensorflow as tf\n",
        "import keras\n",
        "import cv2\n",
        "from PIL import Image\n",
        "from sklearn.model_selection import train_test_split\n",
        "from sklearn.metrics import accuracy_score\n",
        "import time\n",
        "import os\n",
        "import warnings\n",
        "import pickle\n",
        "from tensorflow.keras import regularizers\n",
        "from keras.regularizers import l2\n",
        "\n",
        "warnings.filterwarnings(\"ignore\")"
      ],
      "execution_count": 1,
      "outputs": []
    },
    {
      "cell_type": "code",
      "metadata": {
        "colab": {
          "base_uri": "https://localhost:8080/"
        },
        "id": "IJqiWZxSp6V3",
        "outputId": "03cea284-6311-4d62-fbb9-18c394ea0408"
      },
      "source": [
        "from google.colab import drive\n",
        "drive.mount('/content/MyDrive')"
      ],
      "execution_count": 2,
      "outputs": [
        {
          "output_type": "stream",
          "text": [
            "Mounted at /content/MyDrive\n"
          ],
          "name": "stdout"
        }
      ]
    },
    {
      "cell_type": "code",
      "metadata": {
        "id": "pagHC6NosFii"
      },
      "source": [
        "import sys\n",
        "\n",
        "os.getcwd()\n",
        "!mkdir -p Mydrive\n",
        "   # make a directory called MyDrive"
      ],
      "execution_count": 3,
      "outputs": []
    },
    {
      "cell_type": "code",
      "metadata": {
        "id": "yID9a-KepMcG"
      },
      "source": [
        "# We will time our model\n",
        "start = time.time()\n",
        "# Number of total classes\n",
        "total_classes = 43\n",
        "\n",
        "# Dimensions of our images\n",
        "height = 32\n",
        "width = 32\n",
        "channels = 3\n",
        "\n",
        "pickle_in = open('/content/MyDrive/MyDrive/pickle/image_data.pickle',\"rb\")\n",
        "image_data = pickle.load(pickle_in)\n",
        "\n",
        "pickle_in = open('/content/MyDrive/MyDrive/pickle/image_labels.pickle',\"rb\")\n",
        "image_labels = pickle.load(pickle_in)"
      ],
      "execution_count": 4,
      "outputs": []
    },
    {
      "cell_type": "code",
      "metadata": {
        "id": "TFvdswo-_Lsf"
      },
      "source": [
        "shuffle_indexes = np.arange(image_data.shape[0])\n",
        "np.random.shuffle(shuffle_indexes)\n",
        "\n",
        "image_data = image_data[shuffle_indexes]\n",
        "image_labels = image_labels[shuffle_indexes]"
      ],
      "execution_count": 5,
      "outputs": []
    },
    {
      "cell_type": "code",
      "metadata": {
        "colab": {
          "base_uri": "https://localhost:8080/"
        },
        "id": "udJf1GLS_Y3a",
        "outputId": "1da375be-d22f-4999-d269-751b1535c54a"
      },
      "source": [
        "# Splitting training and testing dataset\n",
        "X_train, X_valid, y_train, y_valid = train_test_split(image_data, image_labels, test_size=0.2,\n",
        "                                                     random_state=2666, shuffle=True)\n",
        "\n",
        "# Scale the values between 0 and 1\n",
        "X_train = X_train / 255\n",
        "X_valid = X_valid / 255\n",
        "\n",
        "# The dimensions concur\n",
        "print(\"X_train.shape\", X_train.shape)\n",
        "print(\"X_valid.shape\", X_valid.shape)\n",
        "print(\"y_train.shape\", y_train.shape)\n",
        "print(\"y_valid.shape\", y_valid.shape)"
      ],
      "execution_count": 6,
      "outputs": [
        {
          "output_type": "stream",
          "text": [
            "X_train.shape (31367, 32, 32, 3)\n",
            "X_valid.shape (7842, 32, 32, 3)\n",
            "y_train.shape (31367,)\n",
            "y_valid.shape (7842,)\n"
          ],
          "name": "stdout"
        }
      ]
    },
    {
      "cell_type": "code",
      "metadata": {
        "colab": {
          "base_uri": "https://localhost:8080/"
        },
        "id": "FyElzsdz_ci-",
        "outputId": "dd8e8327-9412-4891-d3de-a16e895e0636"
      },
      "source": [
        "# Converting the labels into one hot encoding\n",
        "y_train = keras.utils.to_categorical(y_train, total_classes)\n",
        "y_valid = keras.utils.to_categorical(y_valid, total_classes)\n",
        "\n",
        "# The dimensions concur\n",
        "print(y_train.shape)\n",
        "print(y_valid.shape)"
      ],
      "execution_count": 7,
      "outputs": [
        {
          "output_type": "stream",
          "text": [
            "(31367, 43)\n",
            "(7842, 43)\n"
          ],
          "name": "stdout"
        }
      ]
    },
    {
      "cell_type": "code",
      "metadata": {
        "id": "Xvrn4iLN_fd6"
      },
      "source": [
        "keras.backend.clear_session() # Clearing previous session if there was any\n",
        "np.random.seed(2666)"
      ],
      "execution_count": 8,
      "outputs": []
    },
    {
      "cell_type": "code",
      "metadata": {
        "colab": {
          "base_uri": "https://localhost:8080/"
        },
        "id": "Ck_Tg-cT_iRT",
        "outputId": "2de94548-d7c4-4d7a-dbf8-ad757899fda2"
      },
      "source": [
        "# Create our model with Keras is straightforward\n",
        "\n",
        "\n",
        "model = keras.models.Sequential([\n",
        "    keras.layers.Conv2D(filters=36, kernel_size=(1,1), strides=1, activation=\"relu\", \n",
        "                        input_shape=(height, width, channels)),\n",
        "    keras.layers.Conv2D(filters=36, kernel_size=(3,3), strides=1, activation=\"relu\", \n",
        "                        input_shape=(height, width, channels)),\n",
        "    keras.layers.MaxPooling2D(pool_size=(2,2), strides=2),\n",
        "    keras.layers.Conv2D(filters=36, kernel_size=(3,3), strides=1, activation=\"relu\"),\n",
        "    keras.layers.MaxPooling2D(pool_size=(2,2), strides=2),\n",
        "    keras.layers.Conv2D(filters=36, kernel_size=(3, 3), activation=\"relu\"),\n",
        "    keras.layers.MaxPooling2D(pool_size=(1,1)),\n",
        "    keras.layers.Flatten(),\n",
        "    keras.layers.Dropout(.5, input_shape=(1,1)),\n",
        "    keras.layers.Dense(72, kernel_regularizer=l2(0.01), bias_regularizer=l2(0.01)),\n",
        "    keras.layers.Dropout(.5, input_shape=(1,1)),\n",
        "    keras.layers.Dense(units=43, activation=\"softmax\"),\n",
        "])\n",
        "\n",
        "model.summary()"
      ],
      "execution_count": 21,
      "outputs": [
        {
          "output_type": "stream",
          "text": [
            "Model: \"sequential_7\"\n",
            "_________________________________________________________________\n",
            "Layer (type)                 Output Shape              Param #   \n",
            "=================================================================\n",
            "conv2d_28 (Conv2D)           (None, 32, 32, 36)        144       \n",
            "_________________________________________________________________\n",
            "conv2d_29 (Conv2D)           (None, 30, 30, 36)        11700     \n",
            "_________________________________________________________________\n",
            "max_pooling2d_19 (MaxPooling (None, 15, 15, 36)        0         \n",
            "_________________________________________________________________\n",
            "conv2d_30 (Conv2D)           (None, 13, 13, 36)        11700     \n",
            "_________________________________________________________________\n",
            "max_pooling2d_20 (MaxPooling (None, 6, 6, 36)          0         \n",
            "_________________________________________________________________\n",
            "conv2d_31 (Conv2D)           (None, 4, 4, 36)          11700     \n",
            "_________________________________________________________________\n",
            "max_pooling2d_21 (MaxPooling (None, 4, 4, 36)          0         \n",
            "_________________________________________________________________\n",
            "flatten_7 (Flatten)          (None, 576)               0         \n",
            "_________________________________________________________________\n",
            "dropout_8 (Dropout)          (None, 576)               0         \n",
            "_________________________________________________________________\n",
            "dense_14 (Dense)             (None, 72)                41544     \n",
            "_________________________________________________________________\n",
            "dropout_9 (Dropout)          (None, 72)                0         \n",
            "_________________________________________________________________\n",
            "dense_15 (Dense)             (None, 43)                3139      \n",
            "=================================================================\n",
            "Total params: 79,927\n",
            "Trainable params: 79,927\n",
            "Non-trainable params: 0\n",
            "_________________________________________________________________\n"
          ],
          "name": "stdout"
        }
      ]
    },
    {
      "cell_type": "code",
      "metadata": {
        "colab": {
          "base_uri": "https://localhost:8080/"
        },
        "id": "I9uoJVSKAKU_",
        "outputId": "485b2cd6-4b99-42ad-b106-60b6c3743ed8"
      },
      "source": [
        "# Compilation of our model\n",
        "model.compile(loss=\"categorical_crossentropy\", optimizer=\"adam\", metrics=[\"accuracy\"])\n",
        "\n",
        "epochs = 20\n",
        "history = model.fit(X_train, y_train, batch_size=32, epochs=epochs, validation_data=(X_valid, y_valid))\n",
        "validation_data = (X_valid, y_valid)"
      ],
      "execution_count": 22,
      "outputs": [
        {
          "output_type": "stream",
          "text": [
            "Epoch 1/20\n",
            "981/981 [==============================] - 117s 119ms/step - loss: 2.9670 - accuracy: 0.2721 - val_loss: 0.9634 - val_accuracy: 0.7641\n",
            "Epoch 2/20\n",
            "981/981 [==============================] - 118s 120ms/step - loss: 1.1089 - accuracy: 0.7137 - val_loss: 0.5054 - val_accuracy: 0.9212\n",
            "Epoch 3/20\n",
            "981/981 [==============================] - 116s 118ms/step - loss: 0.7181 - accuracy: 0.8358 - val_loss: 0.3519 - val_accuracy: 0.9630\n",
            "Epoch 4/20\n",
            "981/981 [==============================] - 116s 119ms/step - loss: 0.5963 - accuracy: 0.8780 - val_loss: 0.3082 - val_accuracy: 0.9711\n",
            "Epoch 5/20\n",
            "981/981 [==============================] - 117s 119ms/step - loss: 0.5190 - accuracy: 0.8998 - val_loss: 0.2724 - val_accuracy: 0.9746\n",
            "Epoch 6/20\n",
            "981/981 [==============================] - 118s 120ms/step - loss: 0.4551 - accuracy: 0.9148 - val_loss: 0.2567 - val_accuracy: 0.9786\n",
            "Epoch 7/20\n",
            "981/981 [==============================] - 118s 120ms/step - loss: 0.4288 - accuracy: 0.9190 - val_loss: 0.2438 - val_accuracy: 0.9818\n",
            "Epoch 8/20\n",
            "981/981 [==============================] - 117s 119ms/step - loss: 0.4068 - accuracy: 0.9294 - val_loss: 0.2366 - val_accuracy: 0.9829\n",
            "Epoch 9/20\n",
            "981/981 [==============================] - 116s 119ms/step - loss: 0.3854 - accuracy: 0.9343 - val_loss: 0.2255 - val_accuracy: 0.9837\n",
            "Epoch 10/20\n",
            "981/981 [==============================] - 117s 119ms/step - loss: 0.3684 - accuracy: 0.9379 - val_loss: 0.2166 - val_accuracy: 0.9851\n",
            "Epoch 11/20\n",
            "981/981 [==============================] - 117s 119ms/step - loss: 0.3535 - accuracy: 0.9428 - val_loss: 0.2076 - val_accuracy: 0.9865\n",
            "Epoch 12/20\n",
            "981/981 [==============================] - 116s 119ms/step - loss: 0.3384 - accuracy: 0.9466 - val_loss: 0.2111 - val_accuracy: 0.9881\n",
            "Epoch 13/20\n",
            "981/981 [==============================] - 116s 118ms/step - loss: 0.3331 - accuracy: 0.9478 - val_loss: 0.2022 - val_accuracy: 0.9878\n",
            "Epoch 14/20\n",
            "981/981 [==============================] - 116s 118ms/step - loss: 0.3149 - accuracy: 0.9521 - val_loss: 0.2049 - val_accuracy: 0.9883\n",
            "Epoch 15/20\n",
            "981/981 [==============================] - 117s 119ms/step - loss: 0.3129 - accuracy: 0.9538 - val_loss: 0.2059 - val_accuracy: 0.9880\n",
            "Epoch 16/20\n",
            "981/981 [==============================] - 116s 119ms/step - loss: 0.3123 - accuracy: 0.9550 - val_loss: 0.1953 - val_accuracy: 0.9876\n",
            "Epoch 17/20\n",
            "981/981 [==============================] - 116s 119ms/step - loss: 0.2906 - accuracy: 0.9565 - val_loss: 0.1922 - val_accuracy: 0.9890\n",
            "Epoch 18/20\n",
            "981/981 [==============================] - 118s 120ms/step - loss: 0.2897 - accuracy: 0.9590 - val_loss: 0.1912 - val_accuracy: 0.9899\n",
            "Epoch 19/20\n",
            "981/981 [==============================] - 118s 120ms/step - loss: 0.2888 - accuracy: 0.9584 - val_loss: 0.1934 - val_accuracy: 0.9884\n",
            "Epoch 20/20\n",
            "981/981 [==============================] - 117s 119ms/step - loss: 0.2947 - accuracy: 0.9569 - val_loss: 0.1883 - val_accuracy: 0.9880\n"
          ],
          "name": "stdout"
        }
      ]
    },
    {
      "cell_type": "code",
      "metadata": {
        "colab": {
          "base_uri": "https://localhost:8080/",
          "height": 324
        },
        "id": "zrsba0m4AuPO",
        "outputId": "a4abdaeb-8c37-45b5-fa92-1c65aa161e9d"
      },
      "source": [
        "pd.DataFrame(history.history).plot(figsize=(8, 5))\n",
        "plt.grid(True)\n",
        "plt.gca().set_ylim(0, 1)\n",
        "plt.show()"
      ],
      "execution_count": 23,
      "outputs": [
        {
          "output_type": "display_data",
          "data": {
            "image/png": "[encoded data removed]",
            "text/plain": [
              "<Figure size 576x360 with 1 Axes>"
            ]
          },
          "metadata": {
            "tags": [],
            "needs_background": "light"
          }
        }
      ]
    },
    {
      "cell_type": "code",
      "metadata": {
        "id": "Uz9e3A0sBqqx"
      },
      "source": [
        "# Testing accuracy on the reserved test set\n",
        "test = pd.read_csv('/content/MyDrive/MyDrive/archive/Test.csv')\n",
        "\n",
        "labels = test[\"ClassId\"].values\n",
        "test_imgs = test[\"Path\"].values"
      ],
      "execution_count": 24,
      "outputs": []
    },
    {
      "cell_type": "code",
      "metadata": {
        "colab": {
          "base_uri": "https://localhost:8080/",
          "height": 317
        },
        "id": "Gvao9vx5B5uA",
        "outputId": "a10bfe70-1f58-475f-f20f-f80f2bd120d3"
      },
      "source": [
        "input_path='/content/MyDrive/MyDrive/archive/'\n",
        "# How an image looks like\n",
        "img_index = 56\n",
        "image = Image.open(input_path + test_imgs[img_index])\n",
        "img = image.resize((height,width))\n",
        "img = np.array(img) / 255.\n",
        "img = img.reshape(1, height, width, channels)\n",
        "\n",
        "print(img.shape)\n",
        "print(labels[img_index])\n",
        "plt.imshow(image)"
      ],
      "execution_count": 25,
      "outputs": [
        {
          "output_type": "stream",
          "text": [
            "(1, 32, 32, 3)\n",
            "5\n"
          ],
          "name": "stdout"
        },
        {
          "output_type": "execute_result",
          "data": {
            "text/plain": [
              "<matplotlib.image.AxesImage at 0x7fce3c70fd10>"
            ]
          },
          "metadata": {
            "tags": []
          },
          "execution_count": 25
        },
        {
          "output_type": "display_data",
          "data": {
            "image/png": "[encoded data removed]",
            "text/plain": [
              "<Figure size 432x288 with 1 Axes>"
            ]
          },
          "metadata": {
            "tags": [],
            "needs_background": "light"
          }
        }
      ]
    },
    {
      "cell_type": "code",
      "metadata": {
        "id": "zAELKtI0CMx8"
      },
      "source": [
        "# Dictionary to map classes.\n",
        "classes = { \n",
        "    0:'Speed limit (20km/h)',\n",
        "    1:'Speed limit (30km/h)', \n",
        "    2:'Speed limit (50km/h)', \n",
        "    3:'Speed limit (60km/h)', \n",
        "    4:'Speed limit (70km/h)', \n",
        "    5:'Speed limit (80km/h)', \n",
        "    6:'End of speed limit (80km/h)', \n",
        "    7:'Speed limit (100km/h)', \n",
        "    8:'Speed limit (120km/h)', \n",
        "    9:'No passing', \n",
        "    10:'No passing veh over 3.5 tons', \n",
        "    11:'Right-of-way at intersection', \n",
        "    12:'Priority road', \n",
        "    13:'Yield', \n",
        "    14:'Stop', \n",
        "    15:'No vehicles', \n",
        "    16:'Veh > 3.5 tons prohibited', \n",
        "    17:'No entry', \n",
        "    18:'General caution', \n",
        "    19:'Dangerous curve left', \n",
        "    20:'Dangerous curve right', \n",
        "    21:'Double curve', \n",
        "    22:'Bumpy road', \n",
        "    23:'Slippery road', \n",
        "    24:'Road narrows on the right', \n",
        "    25:'Road work', \n",
        "    26:'Traffic signals', \n",
        "    27:'Pedestrians', \n",
        "    28:'Children crossing', \n",
        "    29:'Bicycles crossing', \n",
        "    30:'Beware of ice/snow',\n",
        "    31:'Wild animals crossing', \n",
        "    32:'End speed + passing limits', \n",
        "    33:'Turn right ahead', \n",
        "    34:'Turn left ahead', \n",
        "    35:'Ahead only', \n",
        "    36:'Go straight or right', \n",
        "    37:'Go straight or left', \n",
        "    38:'Keep right', \n",
        "    39:'Keep left', \n",
        "    40:'Roundabout mandatory', \n",
        "    41:'End of no passing', \n",
        "    42:'End no passing veh > 3.5 tons'\n",
        "          }"
      ],
      "execution_count": 26,
      "outputs": []
    },
    {
      "cell_type": "code",
      "metadata": {
        "colab": {
          "base_uri": "https://localhost:8080/"
        },
        "id": "GNdIPuahCRUP",
        "outputId": "3464d2a8-fb88-4521-d837-47de618025a4"
      },
      "source": [
        "# Prediction of this image\n",
        "pred = model.predict_classes(img)[0]\n",
        "print(pred)\n",
        "\n",
        "sign = classes[pred]\n",
        "print(sign)"
      ],
      "execution_count": 27,
      "outputs": [
        {
          "output_type": "stream",
          "text": [
            "5\n",
            "Speed limit (80km/h)\n"
          ],
          "name": "stdout"
        }
      ]
    },
    {
      "cell_type": "code",
      "metadata": {
        "id": "kVqj4LaRCdC5"
      },
      "source": [
        "pickle_in = open('/content/MyDrive/MyDrive/pickle/X_test.pickle',\"rb\")\n",
        "X_test = pickle.load(pickle_in)\n",
        "\n"
      ],
      "execution_count": 28,
      "outputs": []
    },
    {
      "cell_type": "code",
      "metadata": {
        "colab": {
          "base_uri": "https://localhost:8080/"
        },
        "id": "a_hXPc7MTN74",
        "outputId": "761ce565-8bcf-492f-ae3e-2a4aabb871dc"
      },
      "source": [
        "# Prediction of test set\n",
        "pred = model.predict_classes(X_test)\n",
        "\n",
        "#Accuracy with the test data\n",
        "print(\"Accuracy score = %\",100*accuracy_score(labels, pred))\n",
        "end = time.time()\n",
        "print(\"Time taken: \", round(end-start,5), \"seconds\")"
      ],
      "execution_count": 29,
      "outputs": [
        {
          "output_type": "stream",
          "text": [
            "Accuracy score = % 96.84877276326208\n",
            "Time taken:  3475.47323 seconds\n"
          ],
          "name": "stdout"
        }
      ]
    },
    {
      "cell_type": "code",
      "metadata": {
        "colab": {
          "base_uri": "https://localhost:8080/"
        },
        "id": "DF2Ws_YETZK9",
        "outputId": "46789464-0f81-4b28-e971-090bcb51d8b5"
      },
      "source": [
        "model.save('traffic_Sign2')"
      ],
      "execution_count": 31,
      "outputs": [
        {
          "output_type": "stream",
          "text": [
            "INFO:tensorflow:Assets written to: traffic_Sign2/assets\n"
          ],
          "name": "stdout"
        }
      ]
    }
  ]
}