{
  "nbformat": 4,
  "nbformat_minor": 0,
  "metadata": {
    "colab": {
      "name": "cifar10-84%.ipynb adlı not defterinin kopyası",
      "provenance": [],
      "collapsed_sections": [],
      "include_colab_link": true
    },
    "kernelspec": {
      "name": "python3",
      "display_name": "Python 3"
    },
    "language_info": {
      "name": "python"
    },
    "accelerator": "GPU"
  },
  "cells": [
    {
      "cell_type": "markdown",
      "metadata": {
        "id": "view-in-github",
        "colab_type": "text"
      },
      "source": [
        "<a href=\"https://colab.research.google.com/github/sedanurozer/cifar10/blob/main/cifar10_84_ipynb_a.ipynb\" target=\"_parent\"><img src=\"https://colab.research.google.com/assets/colab-badge.svg\" alt=\"Open In Colab\"/></a>"
      ]
    },
    {
      "cell_type": "code",
      "metadata": {
        "id": "9NtzKqWBRk6-"
      },
      "source": [
        "import tensorflow as tf\n",
        "import matplotlib.pyplot as plt\n",
        "from tensorflow.keras import layers\n",
        "from keras.models import Sequential\n",
        "from keras.layers import Dense, Dropout, Activation, Flatten\n",
        "from keras.layers import Conv2D, MaxPooling2D\n",
        "from keras.layers import BatchNormalization, DepthwiseConv2D"
      ],
      "execution_count": null,
      "outputs": []
    },
    {
      "cell_type": "code",
      "metadata": {
        "id": "46gGPx-CRyAc"
      },
      "source": [
        "from tensorflow.keras.datasets import cifar10"
      ],
      "execution_count": null,
      "outputs": []
    },
    {
      "cell_type": "code",
      "metadata": {
        "colab": {
          "base_uri": "https://localhost:8080/"
        },
        "id": "T8JS9dP2Rzdf",
        "outputId": "85ed2ce8-4ed5-4d6b-e98b-cec38431f5f6"
      },
      "source": [
        "# setting class names\n",
        "class_names=['airplane','automobile','bird','cat','deer','dog','frog','horse','ship','truck']\n",
        "#loading the dataset\n",
        "(x_train,y_train),(x_test,y_test)=cifar10.load_data()"
      ],
      "execution_count": null,
      "outputs": [
        {
          "output_type": "stream",
          "text": [
            "Downloading data from https://www.cs.toronto.edu/~kriz/cifar-10-python.tar.gz\n",
            "170500096/170498071 [==============================] - 4s 0us/step\n"
          ],
          "name": "stdout"
        }
      ]
    },
    {
      "cell_type": "code",
      "metadata": {
        "colab": {
          "base_uri": "https://localhost:8080/"
        },
        "id": "RIxy3prER5-R",
        "outputId": "7e0678f7-fd18-40a5-cf22-4fa86080c5fd"
      },
      "source": [
        "x_train=x_train/255.0\n",
        "x_train.shape"
      ],
      "execution_count": null,
      "outputs": [
        {
          "output_type": "execute_result",
          "data": {
            "text/plain": [
              "(50000, 32, 32, 3)"
            ]
          },
          "metadata": {
            "tags": []
          },
          "execution_count": 5
        }
      ]
    },
    {
      "cell_type": "code",
      "metadata": {
        "colab": {
          "base_uri": "https://localhost:8080/"
        },
        "id": "s60dNNLBR8Eb",
        "outputId": "39d92f82-c27e-4644-fc17-42356b23f9c2"
      },
      "source": [
        "x_test=x_test/255.0\n",
        "x_test.shape"
      ],
      "execution_count": null,
      "outputs": [
        {
          "output_type": "execute_result",
          "data": {
            "text/plain": [
              "(10000, 32, 32, 3)"
            ]
          },
          "metadata": {
            "tags": []
          },
          "execution_count": 6
        }
      ]
    },
    {
      "cell_type": "code",
      "metadata": {
        "colab": {
          "base_uri": "https://localhost:8080/",
          "height": 283
        },
        "id": "pH78k8TuR_jS",
        "outputId": "385d5ada-1fe0-4682-ac46-016e890742b7"
      },
      "source": [
        "plt.imshow(x_test[2150])"
      ],
      "execution_count": null,
      "outputs": [
        {
          "output_type": "execute_result",
          "data": {
            "text/plain": [
              "<matplotlib.image.AxesImage at 0x7feea85da550>"
            ]
          },
          "metadata": {
            "tags": []
          },
          "execution_count": 18
        },
        {
          "output_type": "display_data",
          "data": {
            "image/png": "[encoded data removed]",
            "text/plain": [
              "<Figure size 432x288 with 1 Axes>"
            ]
          },
          "metadata": {
            "tags": [],
            "needs_background": "light"
          }
        }
      ]
    },
    {
      "cell_type": "code",
      "metadata": {
        "id": "rCnQFu_XSFgI"
      },
      "source": [
        "model_layers = [\n",
        "    Conv2D(32, (3, 3), activation='relu', strides=(1,1), padding='same', input_shape=(32, 32, 3)),\n",
        "    BatchNormalization(),\n",
        "    DepthwiseConv2D(kernel_size=(3,3), strides=(1, 1), padding='same', activation='relu', depth_multiplier=3),\n",
        "    Dropout(rate =0.1),\n",
        "    Conv2D(64, (3, 3), activation='relu', strides=(2, 2), padding='same'),\n",
        "    BatchNormalization(),\n",
        "    DepthwiseConv2D(kernel_size=(3,3), strides=(1, 1), padding='same', activation='relu'),\n",
        "    Dropout(rate = 0.1),\n",
        "    Conv2D(128, (3, 3), activation='relu', strides=(1, 1), padding='same'),\n",
        "    BatchNormalization(),\n",
        "    DepthwiseConv2D(kernel_size=(3,3), strides=(1, 1), padding='same', activation='relu'),\n",
        "    Dropout(rate = 0.4),\n",
        "    Conv2D(128, (3, 3), activation='relu', strides=(1, 1), padding='same'),\n",
        "    BatchNormalization(),\n",
        "    DepthwiseConv2D(kernel_size=(1,1), strides=(1, 1), padding='same', activation='relu'),\n",
        "    Conv2D(256, (3, 3), activation='relu', strides=(2, 2), padding='same'),\n",
        "    BatchNormalization(),\n",
        "    DepthwiseConv2D(kernel_size=(3,3), strides=(1, 1), padding='same', activation='relu'),\n",
        "    Conv2D(512, (1, 1), activation='relu', strides=(2, 2), padding='same'),\n",
        "    BatchNormalization(),\n",
        "    DepthwiseConv2D(kernel_size=(1,1), strides=(1, 1), padding='same', activation='relu'),\n",
        "    Dropout(rate = 0.4),\n",
        "    Flatten(),\n",
        "    Dropout(rate = 0.3),\n",
        "    Dense(2048, activation='relu'),\n",
        "    Dropout(rate = 0.3),\n",
        "    Dense(512, activation='relu'),\n",
        "    Dropout(rate = 0.4),\n",
        "    Dense(10, activation='softmax')\n",
        "] \n",
        "model = Sequential(model_layers)"
      ],
      "execution_count": null,
      "outputs": []
    },
    {
      "cell_type": "code",
      "metadata": {
        "id": "0yMwZTwESlna"
      },
      "source": [
        "model.compile(loss=\"sparse_categorical_crossentropy\", optimizer=\"Adam\", metrics=[\"sparse_categorical_accuracy\"])"
      ],
      "execution_count": null,
      "outputs": []
    },
    {
      "cell_type": "code",
      "metadata": {
        "colab": {
          "base_uri": "https://localhost:8080/"
        },
        "id": "MnQg0p6bSnNO",
        "outputId": "963db979-4316-4bd8-fb76-6e3ac6892bcc"
      },
      "source": [
        "model_train= model.fit(x_train,y_train,epochs=20)"
      ],
      "execution_count": null,
      "outputs": [
        {
          "output_type": "stream",
          "text": [
            "Epoch 1/20\n",
            "1563/1563 [==============================] - 29s 18ms/step - loss: 1.6759 - sparse_categorical_accuracy: 0.3726\n",
            "Epoch 2/20\n",
            "1563/1563 [==============================] - 27s 17ms/step - loss: 1.0692 - sparse_categorical_accuracy: 0.6247\n",
            "Epoch 3/20\n",
            "1563/1563 [==============================] - 27s 18ms/step - loss: 0.9057 - sparse_categorical_accuracy: 0.6872\n",
            "Epoch 4/20\n",
            "1563/1563 [==============================] - 27s 17ms/step - loss: 0.7853 - sparse_categorical_accuracy: 0.7268\n",
            "Epoch 5/20\n",
            "1563/1563 [==============================] - 27s 17ms/step - loss: 0.7225 - sparse_categorical_accuracy: 0.7480\n",
            "Epoch 6/20\n",
            "1563/1563 [==============================] - 27s 18ms/step - loss: 0.6669 - sparse_categorical_accuracy: 0.7698\n",
            "Epoch 7/20\n",
            "1563/1563 [==============================] - 28s 18ms/step - loss: 0.6184 - sparse_categorical_accuracy: 0.7881\n",
            "Epoch 8/20\n",
            "1563/1563 [==============================] - 27s 18ms/step - loss: 0.5846 - sparse_categorical_accuracy: 0.7992\n",
            "Epoch 9/20\n",
            "1563/1563 [==============================] - 27s 18ms/step - loss: 0.5524 - sparse_categorical_accuracy: 0.8098\n",
            "Epoch 10/20\n",
            "1563/1563 [==============================] - 27s 18ms/step - loss: 0.5237 - sparse_categorical_accuracy: 0.8197\n",
            "Epoch 11/20\n",
            "1563/1563 [==============================] - 27s 18ms/step - loss: 0.5139 - sparse_categorical_accuracy: 0.8224\n",
            "Epoch 12/20\n",
            "1563/1563 [==============================] - 27s 18ms/step - loss: 0.4818 - sparse_categorical_accuracy: 0.8314\n",
            "Epoch 13/20\n",
            "1563/1563 [==============================] - 27s 17ms/step - loss: 0.4678 - sparse_categorical_accuracy: 0.8392\n",
            "Epoch 14/20\n",
            "1563/1563 [==============================] - 27s 18ms/step - loss: 0.4470 - sparse_categorical_accuracy: 0.8450\n",
            "Epoch 15/20\n",
            "1563/1563 [==============================] - 27s 18ms/step - loss: 0.4186 - sparse_categorical_accuracy: 0.8534\n",
            "Epoch 16/20\n",
            "1563/1563 [==============================] - 27s 18ms/step - loss: 0.4226 - sparse_categorical_accuracy: 0.8557\n",
            "Epoch 17/20\n",
            "1563/1563 [==============================] - 28s 18ms/step - loss: 0.3926 - sparse_categorical_accuracy: 0.8637\n",
            "Epoch 18/20\n",
            "1563/1563 [==============================] - 28s 18ms/step - loss: 0.3924 - sparse_categorical_accuracy: 0.8656\n",
            "Epoch 19/20\n",
            "1563/1563 [==============================] - 27s 18ms/step - loss: 0.3876 - sparse_categorical_accuracy: 0.8687\n",
            "Epoch 20/20\n",
            "1563/1563 [==============================] - 27s 18ms/step - loss: 0.3712 - sparse_categorical_accuracy: 0.8690\n"
          ],
          "name": "stdout"
        }
      ]
    },
    {
      "cell_type": "code",
      "metadata": {
        "id": "022fWj7ITUkX"
      },
      "source": [
        "test_eval = model.evaluate(x_test, y_test, verbose=0)"
      ],
      "execution_count": null,
      "outputs": []
    },
    {
      "cell_type": "code",
      "metadata": {
        "colab": {
          "base_uri": "https://localhost:8080/"
        },
        "id": "k_oeFvpSTYIO",
        "outputId": "e563dfc2-15ab-4e9d-a6af-f2b555085b1b"
      },
      "source": [
        "print('Test loss:', test_eval[0])\n",
        "print('Test accuracy: %',test_eval[1]*100)"
      ],
      "execution_count": null,
      "outputs": [
        {
          "output_type": "stream",
          "text": [
            "Test loss: 0.47184818983078003\n",
            "Test accuracy: % 84.5300018787384\n"
          ],
          "name": "stdout"
        }
      ]
    },
    {
      "cell_type": "code",
      "metadata": {
        "colab": {
          "base_uri": "https://localhost:8080/",
          "height": 545
        },
        "id": "zo1g3u1seThF",
        "outputId": "20609d6a-cb27-4326-99fa-54d17849a314"
      },
      "source": [
        "accuracy = model_train.history['sparse_categorical_accuracy']\n",
        "loss = model_train.history['loss']\n",
        "\n",
        "epochs = range(len(accuracy))\n",
        "\n",
        "plt.plot(epochs,accuracy, 'b', label='accuracy ')\n",
        "plt.title('Train Accuracy')\n",
        "plt.legend()\n",
        "plt.figure()\n",
        "plt.plot(epochs, loss, 'o', label='loss')\n",
        "#plt.plot(epochs, val_loss, 'b', label='Validation loss')\n",
        "plt.title('Training loss')\n",
        "plt.legend()\n",
        "plt.show()\n",
        "\n",
        "\n",
        "\n"
      ],
      "execution_count": null,
      "outputs": [
        {
          "output_type": "display_data",
          "data": {
            "image/png": "[encoded data removed]",
            "text/plain": [
              "<Figure size 432x288 with 1 Axes>"
            ]
          },
          "metadata": {
            "tags": [],
            "needs_background": "light"
          }
        },
        {
          "output_type": "display_data",
          "data": {
            "image/png": "[encoded data removed]",
            "text/plain": [
              "<Figure size 432x288 with 1 Axes>"
            ]
          },
          "metadata": {
            "tags": [],
            "needs_background": "light"
          }
        }
      ]
    }
  ]
}