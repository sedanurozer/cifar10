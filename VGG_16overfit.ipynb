{
  "nbformat": 4,
  "nbformat_minor": 0,
  "metadata": {
    "colab": {
      "name": "VGG-16overfit.ipynb",
      "provenance": [],
      "collapsed_sections": [],
      "authorship_tag": "ABX9TyPNdS7+FiWwCs4ipMPMn750",
      "include_colab_link": true
    },
    "kernelspec": {
      "name": "python3",
      "display_name": "Python 3"
    },
    "language_info": {
      "name": "python"
    },
    "accelerator": "GPU"
  },
  "cells": [
    {
      "cell_type": "markdown",
      "metadata": {
        "id": "view-in-github",
        "colab_type": "text"
      },
      "source": [
        "<a href=\"https://colab.research.google.com/github/sedanurozer/cifar10/blob/main/VGG_16overfit.ipynb\" target=\"_parent\"><img src=\"https://colab.research.google.com/assets/colab-badge.svg\" alt=\"Open In Colab\"/></a>"
      ]
    },
    {
      "cell_type": "code",
      "metadata": {
        "id": "yub6pteW3ZCG"
      },
      "source": [
        "import matplotlib.pyplot as plt\n",
        "from tensorflow.keras import layers\n",
        "from keras.models import Sequential\n",
        "from keras.layers import Dense, Dropout, Activation, Flatten\n",
        "from keras.layers import Conv2D, MaxPool2D\n",
        "from keras.layers import BatchNormalization, DepthwiseConv2D\n",
        "import tensorflow as tf"
      ],
      "execution_count": 2,
      "outputs": []
    },
    {
      "cell_type": "code",
      "metadata": {
        "id": "kXGG4O103ePn"
      },
      "source": [
        "from tensorflow.keras.datasets import cifar10"
      ],
      "execution_count": 3,
      "outputs": []
    },
    {
      "cell_type": "code",
      "metadata": {
        "id": "RZJmRdp-368O"
      },
      "source": [
        "class_names=['airplane','automobile','bird','cat','deer','dog','frog','horse','ship','truck']\n",
        "#loading the dataset\n",
        "(x_train,y_train),(x_test,y_test)=cifar10.load_data()"
      ],
      "execution_count": 4,
      "outputs": []
    },
    {
      "cell_type": "code",
      "metadata": {
        "colab": {
          "base_uri": "https://localhost:8080/"
        },
        "id": "VaNBgxaX38XV",
        "outputId": "1962fd94-e4bc-4b5c-f3cd-65ebafaa37a9"
      },
      "source": [
        "x_train=x_train/255.0\n",
        "x_train.shape"
      ],
      "execution_count": 5,
      "outputs": [
        {
          "output_type": "execute_result",
          "data": {
            "text/plain": [
              "(50000, 32, 32, 3)"
            ]
          },
          "metadata": {
            "tags": []
          },
          "execution_count": 5
        }
      ]
    },
    {
      "cell_type": "code",
      "metadata": {
        "colab": {
          "base_uri": "https://localhost:8080/"
        },
        "id": "DQg6eYbS4A3m",
        "outputId": "7e4bdab2-c5eb-40e2-9db4-2a67520ed8ea"
      },
      "source": [
        "x_test=x_test/255.0\n",
        "x_test.shape"
      ],
      "execution_count": 6,
      "outputs": [
        {
          "output_type": "execute_result",
          "data": {
            "text/plain": [
              "(10000, 32, 32, 3)"
            ]
          },
          "metadata": {
            "tags": []
          },
          "execution_count": 6
        }
      ]
    },
    {
      "cell_type": "code",
      "metadata": {
        "colab": {
          "base_uri": "https://localhost:8080/",
          "height": 283
        },
        "id": "YfcpZldE4B5z",
        "outputId": "6a98235f-1223-4d91-84ac-f2ab1d53c070"
      },
      "source": [
        "plt.imshow(x_test[580])"
      ],
      "execution_count": 7,
      "outputs": [
        {
          "output_type": "execute_result",
          "data": {
            "text/plain": [
              "<matplotlib.image.AxesImage at 0x7fa34a754d10>"
            ]
          },
          "metadata": {
            "tags": []
          },
          "execution_count": 7
        },
        {
          "output_type": "display_data",
          "data": {
            "image/png": "[encoded data removed]",
            "text/plain": [
              "<Figure size 432x288 with 1 Axes>"
            ]
          },
          "metadata": {
            "tags": [],
            "needs_background": "light"
          }
        }
      ]
    },
    {
      "cell_type": "code",
      "metadata": {
        "id": "bQi7Amaw4FQp"
      },
      "source": [
        "model=tf.keras.models.Sequential()\n",
        "model.add(Conv2D(filters=64,kernel_size=(3,3),padding=\"same\", activation=\"relu\"))\n",
        "model.add(Conv2D(filters=64,kernel_size=(3,3),padding=\"same\", activation=\"relu\"))\n",
        "model.add(MaxPool2D(pool_size=(2,2),strides=(2,2)))\n",
        "model.add(Conv2D(filters=128, kernel_size=(3,3), padding=\"same\", activation=\"relu\"))\n",
        "model.add(Conv2D(filters=128, kernel_size=(3,3), padding=\"same\", activation=\"relu\"))\n",
        "model.add(MaxPool2D(pool_size=(2,2),strides=(2,2)))\n",
        "model.add(Conv2D(filters=256, kernel_size=(3,3), padding=\"same\", activation=\"relu\"))\n",
        "model.add(Conv2D(filters=256, kernel_size=(3,3), padding=\"same\", activation=\"relu\"))\n",
        "model.add(Conv2D(filters=256, kernel_size=(3,3), padding=\"same\", activation=\"relu\"))\n",
        "model.add(MaxPool2D(pool_size=(2,2),strides=(2,2)))\n",
        "model.add(Conv2D(filters=512, kernel_size=(3,3), padding=\"same\", activation=\"relu\"))\n",
        "model.add(Conv2D(filters=512, kernel_size=(3,3), padding=\"same\", activation=\"relu\"))\n",
        "model.add(Conv2D(filters=512, kernel_size=(3,3), padding=\"same\", activation=\"relu\"))\n",
        "model.add(MaxPool2D(pool_size=(2,2),strides=(2,2)))\n",
        "model.add(Conv2D(filters=512, kernel_size=(3,3), padding=\"same\", activation=\"relu\"))\n",
        "model.add(Conv2D(filters=512, kernel_size=(3,3), padding=\"same\", activation=\"relu\"))\n",
        "model.add(Conv2D(filters=512, kernel_size=(3,3), padding=\"same\", activation=\"relu\"))\n",
        "model.add(MaxPool2D(pool_size=(2,2),strides=(2,2)))"
      ],
      "execution_count": 8,
      "outputs": []
    },
    {
      "cell_type": "code",
      "metadata": {
        "id": "-Uw6uLpp4Qiz"
      },
      "source": [
        "model.compile(loss=\"sparse_categorical_crossentropy\", optimizer=\"Adam\", metrics=[\"sparse_categorical_accuracy\"])"
      ],
      "execution_count": 9,
      "outputs": []
    },
    {
      "cell_type": "code",
      "metadata": {
        "colab": {
          "base_uri": "https://localhost:8080/"
        },
        "id": "aHi3UqBK4edD",
        "outputId": "135b4c78-8fc3-43b6-c791-8afbf55b5826"
      },
      "source": [
        "model_train= model.fit(x_train,y_train,epochs=20)"
      ],
      "execution_count": 10,
      "outputs": [
        {
          "output_type": "stream",
          "text": [
            "Epoch 1/20\n",
            "1563/1563 [==============================] - 77s 28ms/step - loss: 2.3352 - sparse_categorical_accuracy: 0.0982\n",
            "Epoch 2/20\n",
            "1563/1563 [==============================] - 43s 28ms/step - loss: 2.3026 - sparse_categorical_accuracy: 0.0992\n",
            "Epoch 3/20\n",
            "1563/1563 [==============================] - 43s 27ms/step - loss: 2.3026 - sparse_categorical_accuracy: 0.0985\n",
            "Epoch 4/20\n",
            "1563/1563 [==============================] - 43s 27ms/step - loss: 2.3026 - sparse_categorical_accuracy: 0.0999\n",
            "Epoch 5/20\n",
            "1563/1563 [==============================] - 42s 27ms/step - loss: 2.3026 - sparse_categorical_accuracy: 0.0997\n",
            "Epoch 6/20\n",
            "1563/1563 [==============================] - 43s 27ms/step - loss: 2.3026 - sparse_categorical_accuracy: 0.0983\n",
            "Epoch 7/20\n",
            "1563/1563 [==============================] - 43s 27ms/step - loss: 2.3026 - sparse_categorical_accuracy: 0.1014\n",
            "Epoch 8/20\n",
            "1563/1563 [==============================] - 43s 27ms/step - loss: 2.3026 - sparse_categorical_accuracy: 0.1005\n",
            "Epoch 9/20\n",
            "1563/1563 [==============================] - 43s 27ms/step - loss: 2.3026 - sparse_categorical_accuracy: 0.1021\n",
            "Epoch 10/20\n",
            "1563/1563 [==============================] - 43s 27ms/step - loss: 2.3026 - sparse_categorical_accuracy: 0.1000\n",
            "Epoch 11/20\n",
            "1563/1563 [==============================] - 43s 27ms/step - loss: 2.3026 - sparse_categorical_accuracy: 0.0985\n",
            "Epoch 12/20\n",
            "1563/1563 [==============================] - 43s 27ms/step - loss: 2.3026 - sparse_categorical_accuracy: 0.1003\n",
            "Epoch 13/20\n",
            "1563/1563 [==============================] - 43s 27ms/step - loss: 2.3026 - sparse_categorical_accuracy: 0.0977\n",
            "Epoch 14/20\n",
            "1563/1563 [==============================] - 43s 27ms/step - loss: 2.3026 - sparse_categorical_accuracy: 0.1005\n",
            "Epoch 15/20\n",
            "1563/1563 [==============================] - 43s 27ms/step - loss: 2.3026 - sparse_categorical_accuracy: 0.0995\n",
            "Epoch 16/20\n",
            "1563/1563 [==============================] - 43s 27ms/step - loss: 2.3026 - sparse_categorical_accuracy: 0.0996\n",
            "Epoch 17/20\n",
            "1563/1563 [==============================] - 43s 27ms/step - loss: 2.3026 - sparse_categorical_accuracy: 0.0995\n",
            "Epoch 18/20\n",
            "1563/1563 [==============================] - 43s 27ms/step - loss: 2.3026 - sparse_categorical_accuracy: 0.0997\n",
            "Epoch 19/20\n",
            "1563/1563 [==============================] - 43s 27ms/step - loss: 2.3026 - sparse_categorical_accuracy: 0.0987\n",
            "Epoch 20/20\n",
            "1563/1563 [==============================] - 43s 27ms/step - loss: 2.3026 - sparse_categorical_accuracy: 0.1010\n"
          ],
          "name": "stdout"
        }
      ]
    },
    {
      "cell_type": "code",
      "metadata": {
        "id": "BlJlfISI4iVZ"
      },
      "source": [
        "test_eval = model.evaluate(x_test, y_test, verbose=0)"
      ],
      "execution_count": 11,
      "outputs": []
    },
    {
      "cell_type": "code",
      "metadata": {
        "colab": {
          "base_uri": "https://localhost:8080/"
        },
        "id": "FVEGDtDOJHBU",
        "outputId": "2c4f5474-a7bb-4a14-bc2a-f2042d08fcf3"
      },
      "source": [
        "print('Test loss:', test_eval[0])\n",
        "print('Test accuracy: %',test_eval[1]*100)"
      ],
      "execution_count": 12,
      "outputs": [
        {
          "output_type": "stream",
          "text": [
            "Test loss: 2.3025946617126465\n",
            "Test accuracy: % 10.003002732992172\n"
          ],
          "name": "stdout"
        }
      ]
    },
    {
      "cell_type": "code",
      "metadata": {
        "colab": {
          "base_uri": "https://localhost:8080/",
          "height": 545
        },
        "id": "3M7bwz9nJJ4a",
        "outputId": "4eccc10c-095c-47f7-f127-073b494731c3"
      },
      "source": [
        "accuracy = model_train.history['sparse_categorical_accuracy']\n",
        "loss = model_train.history['loss']\n",
        "\n",
        "epochs = range(len(accuracy))\n",
        "\n",
        "plt.plot(epochs,accuracy, 'b', label='accuracy ')\n",
        "plt.title('Train Accuracy')\n",
        "plt.legend()\n",
        "plt.figure()\n",
        "plt.plot(epochs, loss, '*', label='loss')\n",
        "#plt.plot(epochs, val_loss, 'b', label='Validation loss')\n",
        "plt.title('Training loss')\n",
        "plt.legend()\n",
        "plt.show()"
      ],
      "execution_count": 14,
      "outputs": [
        {
          "output_type": "display_data",
          "data": {
            "image/png": "[encoded data removed]",
            "text/plain": [
              "<Figure size 432x288 with 1 Axes>"
            ]
          },
          "metadata": {
            "tags": [],
            "needs_background": "light"
          }
        },
        {
          "output_type": "display_data",
          "data": {
            "image/png": "[encoded data removed]",
            "text/plain": [
              "<Figure size 432x288 with 1 Axes>"
            ]
          },
          "metadata": {
            "tags": [],
            "needs_background": "light"
          }
        }
      ]
    }
  ]
}