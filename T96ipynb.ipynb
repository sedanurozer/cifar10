{
  "nbformat": 4,
  "nbformat_minor": 0,
  "metadata": {
    "colab": {
      "name": "T96ipynb",
      "provenance": [],
      "collapsed_sections": [],
      "authorship_tag": "ABX9TyPiimIsPT28scCfcDYjJTNQ",
      "include_colab_link": true
    },
    "kernelspec": {
      "name": "python3",
      "display_name": "Python 3"
    },
    "language_info": {
      "name": "python"
    },
    "accelerator": "GPU"
  },
  "cells": [
    {
      "cell_type": "markdown",
      "metadata": {
        "id": "view-in-github",
        "colab_type": "text"
      },
      "source": [
        "<a href=\"https://colab.research.google.com/github/sedanurozer/cifar10/blob/main/T96ipynb.ipynb\" target=\"_parent\"><img src=\"https://colab.research.google.com/assets/colab-badge.svg\" alt=\"Open In Colab\"/></a>"
      ]
    },
    {
      "cell_type": "code",
      "metadata": {
        "id": "S7x30Jpsbtg_"
      },
      "source": [
        "import numpy as np \n",
        "import pandas as pd\n",
        "import matplotlib.pyplot as plt\n",
        "import tensorflow as tf\n",
        "import keras\n",
        "import cv2\n",
        "from PIL import Image\n",
        "from keras.layers import BatchNormalization,Dropout\n",
        "from sklearn.model_selection import train_test_split\n",
        "from sklearn.metrics import accuracy_score\n",
        "import time\n",
        "import os\n",
        "import warnings\n",
        "import pickle\n",
        "from tensorflow.keras import regularizers\n",
        "from keras.regularizers import l2\n",
        "\n",
        "warnings.filterwarnings(\"ignore\")"
      ],
      "execution_count": 14,
      "outputs": []
    },
    {
      "cell_type": "code",
      "metadata": {
        "colab": {
          "base_uri": "https://localhost:8080/"
        },
        "id": "3LidTuWWfvZW",
        "outputId": "5ce1acb6-c036-4f9d-86b2-2968b7a703ed"
      },
      "source": [
        "from google.colab import drive\n",
        "drive.mount('/content/MyDrive')"
      ],
      "execution_count": 2,
      "outputs": [
        {
          "output_type": "stream",
          "text": [
            "Mounted at /content/MyDrive\n"
          ],
          "name": "stdout"
        }
      ]
    },
    {
      "cell_type": "code",
      "metadata": {
        "id": "0pXhUGNkf4HG"
      },
      "source": [
        "import sys\n",
        "\n",
        "os.getcwd()\n",
        "!mkdir -p Mydrive\n",
        "   # make a directory called MyDrive"
      ],
      "execution_count": 3,
      "outputs": []
    },
    {
      "cell_type": "code",
      "metadata": {
        "id": "gfFJqtQLf6o0"
      },
      "source": [
        "# We will time our model\n",
        "start = time.time()\n",
        "# Number of total classes\n",
        "total_classes = 43\n",
        "\n",
        "# Dimensions of our images\n",
        "height = 32\n",
        "width = 32\n",
        "channels = 3\n",
        "\n",
        "pickle_in = open('/content/MyDrive/MyDrive/pickle/image_data.pickle',\"rb\")\n",
        "image_data = pickle.load(pickle_in)\n",
        "\n",
        "pickle_in = open('/content/MyDrive/MyDrive/pickle/image_labels.pickle',\"rb\")\n",
        "image_labels = pickle.load(pickle_in)"
      ],
      "execution_count": 4,
      "outputs": []
    },
    {
      "cell_type": "code",
      "metadata": {
        "id": "W7m_qEoTf_EY"
      },
      "source": [
        "shuffle_indexes = np.arange(image_data.shape[0])\n",
        "np.random.shuffle(shuffle_indexes)\n",
        "\n",
        "image_data = image_data[shuffle_indexes]\n",
        "image_labels = image_labels[shuffle_indexes]"
      ],
      "execution_count": 5,
      "outputs": []
    },
    {
      "cell_type": "code",
      "metadata": {
        "colab": {
          "base_uri": "https://localhost:8080/"
        },
        "id": "CkrgrzZ7gAov",
        "outputId": "7097368a-fdd0-4448-a46f-6233145fe272"
      },
      "source": [
        "\n",
        "# Splitting training and testing dataset\n",
        "X_train, X_valid, y_train, y_valid = train_test_split(image_data, image_labels, test_size=0.2,\n",
        "                                                     random_state=2666, shuffle=True)\n",
        "\n",
        "# Scale the values between 0 and 1\n",
        "X_train = X_train / 255\n",
        "X_valid = X_valid / 255\n",
        "\n",
        "# The dimensions concur\n",
        "print(\"X_train.shape\", X_train.shape)\n",
        "print(\"X_valid.shape\", X_valid.shape)\n",
        "print(\"y_train.shape\", y_train.shape)\n",
        "print(\"y_valid.shape\", y_valid.shape)"
      ],
      "execution_count": 6,
      "outputs": [
        {
          "output_type": "stream",
          "text": [
            "X_train.shape (31367, 32, 32, 3)\n",
            "X_valid.shape (7842, 32, 32, 3)\n",
            "y_train.shape (31367,)\n",
            "y_valid.shape (7842,)\n"
          ],
          "name": "stdout"
        }
      ]
    },
    {
      "cell_type": "code",
      "metadata": {
        "colab": {
          "base_uri": "https://localhost:8080/"
        },
        "id": "5sSrFxRggDav",
        "outputId": "55ee29d1-b8c4-4748-d222-491ce6ac5eac"
      },
      "source": [
        "# Converting the labels into one hot encoding\n",
        "y_train = keras.utils.to_categorical(y_train, total_classes)\n",
        "y_valid = keras.utils.to_categorical(y_valid, total_classes)\n",
        "\n",
        "# The dimensions concur\n",
        "print(y_train.shape)\n",
        "print(y_valid.shape)"
      ],
      "execution_count": 7,
      "outputs": [
        {
          "output_type": "stream",
          "text": [
            "(31367, 43)\n",
            "(7842, 43)\n"
          ],
          "name": "stdout"
        }
      ]
    },
    {
      "cell_type": "code",
      "metadata": {
        "id": "h2GmWcV9gHXM"
      },
      "source": [
        "keras.backend.clear_session() # Clearing previous session if there was any\n",
        "np.random.seed(2666)"
      ],
      "execution_count": 8,
      "outputs": []
    },
    {
      "cell_type": "code",
      "metadata": {
        "colab": {
          "base_uri": "https://localhost:8080/"
        },
        "id": "nG3ncP8JgJvP",
        "outputId": "2f294b28-1271-4c90-ced2-66f48f7cbc38"
      },
      "source": [
        "# Create our model with Keras is straightforward\n",
        "\n",
        "\n",
        "model = keras.models.Sequential([\n",
        "    keras.layers.Conv2D(filters=36, kernel_size=(1,1), strides=1, activation=\"relu\", \n",
        "                        input_shape=(height, width, channels)),\n",
        "    BatchNormalization(),\n",
        "    Dropout(rate =0.2),              \n",
        "    keras.layers.Conv2D(filters=36, kernel_size=(3,3), strides=1, activation=\"relu\", \n",
        "                        input_shape=(height, width, channels)),\n",
        "    keras.layers.MaxPooling2D(pool_size=(2,2), strides=2),\n",
        "   \n",
        "    keras.layers.Conv2D(filters=36, kernel_size=(3,3), strides=1, activation=\"relu\"),\n",
        "    keras.layers.MaxPooling2D(pool_size=(2,2), strides=2),\n",
        "    \n",
        "    keras.layers.Conv2D(filters=36, kernel_size=(3, 3), activation=\"relu\"),\n",
        "    keras.layers.MaxPooling2D(pool_size=(2,2), strides=2),\n",
        "    keras.layers.Flatten(),\n",
        "    keras.layers.Dropout(.5, input_shape=(1,1)),\n",
        "    keras.layers.Dense(96, kernel_regularizer=l2(0.01), bias_regularizer=l2(0.01)),\n",
        "    keras.layers.Dense(units=43, activation=\"softmax\"),\n",
        "])\n",
        "\n",
        "model.summary()"
      ],
      "execution_count": 64,
      "outputs": [
        {
          "output_type": "stream",
          "text": [
            "Model: \"sequential_21\"\n",
            "_________________________________________________________________\n",
            "Layer (type)                 Output Shape              Param #   \n",
            "=================================================================\n",
            "conv2d_90 (Conv2D)           (None, 32, 32, 36)        144       \n",
            "_________________________________________________________________\n",
            "batch_normalization_15 (Batc (None, 32, 32, 36)        144       \n",
            "_________________________________________________________________\n",
            "dropout_89 (Dropout)         (None, 32, 32, 36)        0         \n",
            "_________________________________________________________________\n",
            "conv2d_91 (Conv2D)           (None, 30, 30, 36)        11700     \n",
            "_________________________________________________________________\n",
            "max_pooling2d_67 (MaxPooling (None, 15, 15, 36)        0         \n",
            "_________________________________________________________________\n",
            "conv2d_92 (Conv2D)           (None, 13, 13, 36)        11700     \n",
            "_________________________________________________________________\n",
            "max_pooling2d_68 (MaxPooling (None, 6, 6, 36)          0         \n",
            "_________________________________________________________________\n",
            "conv2d_93 (Conv2D)           (None, 4, 4, 36)          11700     \n",
            "_________________________________________________________________\n",
            "max_pooling2d_69 (MaxPooling (None, 2, 2, 36)          0         \n",
            "_________________________________________________________________\n",
            "flatten_21 (Flatten)         (None, 144)               0         \n",
            "_________________________________________________________________\n",
            "dropout_90 (Dropout)         (None, 144)               0         \n",
            "_________________________________________________________________\n",
            "dense_46 (Dense)             (None, 96)                13920     \n",
            "_________________________________________________________________\n",
            "dense_47 (Dense)             (None, 43)                4171      \n",
            "=================================================================\n",
            "Total params: 53,479\n",
            "Trainable params: 53,407\n",
            "Non-trainable params: 72\n",
            "_________________________________________________________________\n"
          ],
          "name": "stdout"
        }
      ]
    },
    {
      "cell_type": "code",
      "metadata": {
        "colab": {
          "base_uri": "https://localhost:8080/"
        },
        "id": "YYJKlF-NhCuP",
        "outputId": "d8da6ef9-71ba-4c0b-fee5-e291157ebe3c"
      },
      "source": [
        "# Compilation of our model\n",
        "model.compile(loss=\"categorical_crossentropy\", optimizer=\"adam\", metrics=[\"accuracy\"])\n",
        "\n",
        "epochs = 25\n",
        "history = model.fit(X_train, y_train, batch_size=32, epochs=epochs, validation_data=(X_valid, y_valid))\n",
        "validation_data = (X_valid, y_valid)"
      ],
      "execution_count": 65,
      "outputs": [
        {
          "output_type": "stream",
          "text": [
            "Epoch 1/25\n",
            "981/981 [==============================] - 6s 6ms/step - loss: 2.9193 - accuracy: 0.3370 - val_loss: 0.7262 - val_accuracy: 0.8383\n",
            "Epoch 2/25\n",
            "981/981 [==============================] - 6s 6ms/step - loss: 0.8476 - accuracy: 0.7877 - val_loss: 0.3160 - val_accuracy: 0.9549\n",
            "Epoch 3/25\n",
            "981/981 [==============================] - 5s 5ms/step - loss: 0.5366 - accuracy: 0.8715 - val_loss: 0.2166 - val_accuracy: 0.9699\n",
            "Epoch 4/25\n",
            "981/981 [==============================] - 5s 5ms/step - loss: 0.4255 - accuracy: 0.8981 - val_loss: 0.1747 - val_accuracy: 0.9810\n",
            "Epoch 5/25\n",
            "981/981 [==============================] - 5s 5ms/step - loss: 0.3656 - accuracy: 0.9171 - val_loss: 0.1723 - val_accuracy: 0.9821\n",
            "Epoch 6/25\n",
            "981/981 [==============================] - 5s 6ms/step - loss: 0.3301 - accuracy: 0.9255 - val_loss: 0.1535 - val_accuracy: 0.9838\n",
            "Epoch 7/25\n",
            "981/981 [==============================] - 6s 6ms/step - loss: 0.3132 - accuracy: 0.9310 - val_loss: 0.1430 - val_accuracy: 0.9881\n",
            "Epoch 8/25\n",
            "981/981 [==============================] - 6s 6ms/step - loss: 0.2959 - accuracy: 0.9345 - val_loss: 0.1425 - val_accuracy: 0.9832\n",
            "Epoch 9/25\n",
            "981/981 [==============================] - 5s 6ms/step - loss: 0.2940 - accuracy: 0.9348 - val_loss: 0.1453 - val_accuracy: 0.9810\n",
            "Epoch 10/25\n",
            "981/981 [==============================] - 5s 5ms/step - loss: 0.2678 - accuracy: 0.9446 - val_loss: 0.1207 - val_accuracy: 0.9915\n",
            "Epoch 11/25\n",
            "981/981 [==============================] - 5s 6ms/step - loss: 0.2560 - accuracy: 0.9460 - val_loss: 0.1281 - val_accuracy: 0.9887\n",
            "Epoch 12/25\n",
            "981/981 [==============================] - 5s 5ms/step - loss: 0.2470 - accuracy: 0.9476 - val_loss: 0.1201 - val_accuracy: 0.9888\n",
            "Epoch 13/25\n",
            "981/981 [==============================] - 5s 5ms/step - loss: 0.2345 - accuracy: 0.9519 - val_loss: 0.1129 - val_accuracy: 0.9901\n",
            "Epoch 14/25\n",
            "981/981 [==============================] - 5s 6ms/step - loss: 0.2444 - accuracy: 0.9491 - val_loss: 0.1117 - val_accuracy: 0.9902\n",
            "Epoch 15/25\n",
            "981/981 [==============================] - 5s 5ms/step - loss: 0.2460 - accuracy: 0.9483 - val_loss: 0.1057 - val_accuracy: 0.9920\n",
            "Epoch 16/25\n",
            "981/981 [==============================] - 5s 6ms/step - loss: 0.2176 - accuracy: 0.9567 - val_loss: 0.1119 - val_accuracy: 0.9885\n",
            "Epoch 17/25\n",
            "981/981 [==============================] - 5s 6ms/step - loss: 0.2239 - accuracy: 0.9552 - val_loss: 0.1043 - val_accuracy: 0.9918\n",
            "Epoch 18/25\n",
            "981/981 [==============================] - 5s 6ms/step - loss: 0.2122 - accuracy: 0.9594 - val_loss: 0.1092 - val_accuracy: 0.9912\n",
            "Epoch 19/25\n",
            "981/981 [==============================] - 5s 6ms/step - loss: 0.2213 - accuracy: 0.9565 - val_loss: 0.1056 - val_accuracy: 0.9920\n",
            "Epoch 20/25\n",
            "981/981 [==============================] - 5s 5ms/step - loss: 0.2121 - accuracy: 0.9591 - val_loss: 0.0997 - val_accuracy: 0.9930\n",
            "Epoch 21/25\n",
            "981/981 [==============================] - 5s 5ms/step - loss: 0.2086 - accuracy: 0.9596 - val_loss: 0.1034 - val_accuracy: 0.9922\n",
            "Epoch 22/25\n",
            "981/981 [==============================] - 5s 6ms/step - loss: 0.1906 - accuracy: 0.9635 - val_loss: 0.1102 - val_accuracy: 0.9875\n",
            "Epoch 23/25\n",
            "981/981 [==============================] - 5s 5ms/step - loss: 0.2018 - accuracy: 0.9604 - val_loss: 0.1023 - val_accuracy: 0.9930\n",
            "Epoch 24/25\n",
            "981/981 [==============================] - 5s 6ms/step - loss: 0.1881 - accuracy: 0.9644 - val_loss: 0.0921 - val_accuracy: 0.9935\n",
            "Epoch 25/25\n",
            "981/981 [==============================] - 5s 6ms/step - loss: 0.1874 - accuracy: 0.9644 - val_loss: 0.0917 - val_accuracy: 0.9941\n"
          ],
          "name": "stdout"
        }
      ]
    },
    {
      "cell_type": "code",
      "metadata": {
        "colab": {
          "base_uri": "https://localhost:8080/",
          "height": 324
        },
        "id": "pf2kGRe1hz5p",
        "outputId": "ac1e36a2-71b7-404a-8ea9-476ce87d2a99"
      },
      "source": [
        "pd.DataFrame(history.history).plot(figsize=(8, 5))\n",
        "plt.grid(True)\n",
        "plt.gca().set_ylim(0, 1)\n",
        "plt.show()"
      ],
      "execution_count": 66,
      "outputs": [
        {
          "output_type": "display_data",
          "data": {
            "image/png": "[encoded data removed]",
            "text/plain": [
              "<Figure size 576x360 with 1 Axes>"
            ]
          },
          "metadata": {
            "tags": [],
            "needs_background": "light"
          }
        }
      ]
    },
    {
      "cell_type": "code",
      "metadata": {
        "id": "xB1Iv5ERh4DX"
      },
      "source": [
        "# Testing accuracy on the reserved test set\n",
        "test = pd.read_csv('/content/MyDrive/MyDrive/archive/Test.csv')\n",
        "\n",
        "labels = test[\"ClassId\"].values\n",
        "test_imgs = test[\"Path\"].values"
      ],
      "execution_count": 67,
      "outputs": []
    },
    {
      "cell_type": "code",
      "metadata": {
        "colab": {
          "base_uri": "https://localhost:8080/",
          "height": 317
        },
        "id": "ZwmWl9Kdkebw",
        "outputId": "979e128e-3900-47d2-b957-a11d27ea3604"
      },
      "source": [
        "\n",
        "input_path='/content/MyDrive/MyDrive/archive/'\n",
        "# How an image looks like\n",
        "img_index = 56\n",
        "image = Image.open(input_path + test_imgs[img_index])\n",
        "img = image.resize((height,width))\n",
        "img = np.array(img) / 255.\n",
        "img = img.reshape(1, height, width, channels)\n",
        "\n",
        "print(img.shape)\n",
        "print(labels[img_index])\n",
        "plt.imshow(image)"
      ],
      "execution_count": 68,
      "outputs": [
        {
          "output_type": "stream",
          "text": [
            "(1, 32, 32, 3)\n",
            "5\n"
          ],
          "name": "stdout"
        },
        {
          "output_type": "execute_result",
          "data": {
            "text/plain": [
              "<matplotlib.image.AxesImage at 0x7fca3c1d1e90>"
            ]
          },
          "metadata": {
            "tags": []
          },
          "execution_count": 68
        },
        {
          "output_type": "display_data",
          "data": {
            "image/png": "[encoded data removed]",
            "text/plain": [
              "<Figure size 432x288 with 1 Axes>"
            ]
          },
          "metadata": {
            "tags": [],
            "needs_background": "light"
          }
        }
      ]
    },
    {
      "cell_type": "code",
      "metadata": {
        "id": "rumV9RxoknGf"
      },
      "source": [
        "# Dictionary to map classes.\n",
        "classes = { \n",
        "    0:'Speed limit (20km/h)',\n",
        "    1:'Speed limit (30km/h)', \n",
        "    2:'Speed limit (50km/h)', \n",
        "    3:'Speed limit (60km/h)', \n",
        "    4:'Speed limit (70km/h)', \n",
        "    5:'Speed limit (80km/h)', \n",
        "    6:'End of speed limit (80km/h)', \n",
        "    7:'Speed limit (100km/h)', \n",
        "    8:'Speed limit (120km/h)', \n",
        "    9:'No passing', \n",
        "    10:'No passing veh over 3.5 tons', \n",
        "    11:'Right-of-way at intersection', \n",
        "    12:'Priority road', \n",
        "    13:'Yield', \n",
        "    14:'Stop', \n",
        "    15:'No vehicles', \n",
        "    16:'Veh > 3.5 tons prohibited', \n",
        "    17:'No entry', \n",
        "    18:'General caution', \n",
        "    19:'Dangerous curve left', \n",
        "    20:'Dangerous curve right', \n",
        "    21:'Double curve', \n",
        "    22:'Bumpy road', \n",
        "    23:'Slippery road', \n",
        "    24:'Road narrows on the right', \n",
        "    25:'Road work', \n",
        "    26:'Traffic signals', \n",
        "    27:'Pedestrians', \n",
        "    28:'Children crossing', \n",
        "    29:'Bicycles crossing', \n",
        "    30:'Beware of ice/snow',\n",
        "    31:'Wild animals crossing', \n",
        "    32:'End speed + passing limits', \n",
        "    33:'Turn right ahead', \n",
        "    34:'Turn left ahead', \n",
        "    35:'Ahead only', \n",
        "    36:'Go straight or right', \n",
        "    37:'Go straight or left', \n",
        "    38:'Keep right', \n",
        "    39:'Keep left', \n",
        "    40:'Roundabout mandatory', \n",
        "    41:'End of no passing', \n",
        "    42:'End no passing veh > 3.5 tons'\n",
        "          }"
      ],
      "execution_count": 40,
      "outputs": []
    },
    {
      "cell_type": "code",
      "metadata": {
        "colab": {
          "base_uri": "https://localhost:8080/"
        },
        "id": "iND870mBk5B4",
        "outputId": "ab89e651-83bc-4cbc-c081-5176730ef7e2"
      },
      "source": [
        "# Prediction of this image\n",
        "pred = model.predict_classes(img)[0]\n",
        "print(pred)\n",
        "\n",
        "sign = classes[pred]\n",
        "print(sign)"
      ],
      "execution_count": 69,
      "outputs": [
        {
          "output_type": "stream",
          "text": [
            "5\n",
            "Speed limit (80km/h)\n"
          ],
          "name": "stdout"
        }
      ]
    },
    {
      "cell_type": "code",
      "metadata": {
        "id": "vg6WbeqYk8P2"
      },
      "source": [
        "pickle_in = open('/content/MyDrive/MyDrive/pickle/X_test.pickle',\"rb\")\n",
        "X_test = pickle.load(pickle_in)"
      ],
      "execution_count": 70,
      "outputs": []
    },
    {
      "cell_type": "code",
      "metadata": {
        "colab": {
          "base_uri": "https://localhost:8080/"
        },
        "id": "B4O_2R8ik9mj",
        "outputId": "36863039-61e7-4d85-f9f4-f2b6276f8627"
      },
      "source": [
        "# Prediction of test set\n",
        "pred = model.predict_classes(X_test)\n",
        "\n",
        "#Accuracy with the test data\n",
        "print(\"Accuracy score = %\",100*accuracy_score(labels, pred))\n",
        "end = time.time()\n",
        "print(\"Time taken: \", round(end-start,5), \"seconds\")"
      ],
      "execution_count": 71,
      "outputs": [
        {
          "output_type": "stream",
          "text": [
            "Accuracy score = % 96.7458432304038\n",
            "Time taken:  2078.38279 seconds\n"
          ],
          "name": "stdout"
        }
      ]
    },
    {
      "cell_type": "code",
      "metadata": {
        "id": "zbKbfN03lA4n"
      },
      "source": [
        ""
      ],
      "execution_count": null,
      "outputs": []
    }
  ]
}