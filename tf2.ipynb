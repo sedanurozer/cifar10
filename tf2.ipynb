{
  "nbformat": 4,
  "nbformat_minor": 0,
  "metadata": {
    "colab": {
      "name": "tf2.ipynb",
      "provenance": [],
      "collapsed_sections": [],
      "authorship_tag": "ABX9TyPKcl69MhKVeXvxe7RiZJTE",
      "include_colab_link": true
    },
    "kernelspec": {
      "name": "python3",
      "display_name": "Python 3"
    },
    "language_info": {
      "name": "python"
    },
    "accelerator": "GPU"
  },
  "cells": [
    {
      "cell_type": "markdown",
      "metadata": {
        "id": "view-in-github",
        "colab_type": "text"
      },
      "source": [
        "<a href=\"https://colab.research.google.com/github/sedanurozer/cifar10/blob/main/tf2.ipynb\" target=\"_parent\"><img src=\"https://colab.research.google.com/assets/colab-badge.svg\" alt=\"Open In Colab\"/></a>"
      ]
    },
    {
      "cell_type": "code",
      "metadata": {
        "id": "S7x30Jpsbtg_"
      },
      "source": [
        "import numpy as np \n",
        "import pandas as pd\n",
        "import matplotlib.pyplot as plt\n",
        "import tensorflow as tf\n",
        "import keras\n",
        "import cv2\n",
        "from PIL import Image\n",
        "from keras.layers import BatchNormalization,Dropout\n",
        "from sklearn.model_selection import train_test_split\n",
        "from sklearn.metrics import accuracy_score\n",
        "import time\n",
        "import os\n",
        "import warnings\n",
        "import pickle\n",
        "from tensorflow.keras import regularizers\n",
        "from keras.regularizers import l2\n",
        "\n",
        "warnings.filterwarnings(\"ignore\")"
      ],
      "execution_count": 14,
      "outputs": []
    },
    {
      "cell_type": "code",
      "metadata": {
        "colab": {
          "base_uri": "https://localhost:8080/"
        },
        "id": "3LidTuWWfvZW",
        "outputId": "5ce1acb6-c036-4f9d-86b2-2968b7a703ed"
      },
      "source": [
        "from google.colab import drive\n",
        "drive.mount('/content/MyDrive')"
      ],
      "execution_count": 2,
      "outputs": [
        {
          "output_type": "stream",
          "text": [
            "Mounted at /content/MyDrive\n"
          ],
          "name": "stdout"
        }
      ]
    },
    {
      "cell_type": "code",
      "metadata": {
        "id": "0pXhUGNkf4HG"
      },
      "source": [
        "import sys\n",
        "\n",
        "os.getcwd()\n",
        "!mkdir -p Mydrive\n",
        "   # make a directory called MyDrive"
      ],
      "execution_count": 3,
      "outputs": []
    },
    {
      "cell_type": "code",
      "metadata": {
        "id": "gfFJqtQLf6o0"
      },
      "source": [
        "# We will time our model\n",
        "start = time.time()\n",
        "# Number of total classes\n",
        "total_classes = 43\n",
        "\n",
        "# Dimensions of our images\n",
        "height = 32\n",
        "width = 32\n",
        "channels = 3\n",
        "\n",
        "pickle_in = open('/content/MyDrive/MyDrive/pickle/image_data.pickle',\"rb\")\n",
        "image_data = pickle.load(pickle_in)\n",
        "\n",
        "pickle_in = open('/content/MyDrive/MyDrive/pickle/image_labels.pickle',\"rb\")\n",
        "image_labels = pickle.load(pickle_in)"
      ],
      "execution_count": 4,
      "outputs": []
    },
    {
      "cell_type": "code",
      "metadata": {
        "id": "W7m_qEoTf_EY"
      },
      "source": [
        "shuffle_indexes = np.arange(image_data.shape[0])\n",
        "np.random.shuffle(shuffle_indexes)\n",
        "\n",
        "image_data = image_data[shuffle_indexes]\n",
        "image_labels = image_labels[shuffle_indexes]"
      ],
      "execution_count": 5,
      "outputs": []
    },
    {
      "cell_type": "code",
      "metadata": {
        "colab": {
          "base_uri": "https://localhost:8080/"
        },
        "id": "CkrgrzZ7gAov",
        "outputId": "7097368a-fdd0-4448-a46f-6233145fe272"
      },
      "source": [
        "\n",
        "# Splitting training and testing dataset\n",
        "X_train, X_valid, y_train, y_valid = train_test_split(image_data, image_labels, test_size=0.2,\n",
        "                                                     random_state=2666, shuffle=True)\n",
        "\n",
        "# Scale the values between 0 and 1\n",
        "X_train = X_train / 255\n",
        "X_valid = X_valid / 255\n",
        "\n",
        "# The dimensions concur\n",
        "print(\"X_train.shape\", X_train.shape)\n",
        "print(\"X_valid.shape\", X_valid.shape)\n",
        "print(\"y_train.shape\", y_train.shape)\n",
        "print(\"y_valid.shape\", y_valid.shape)"
      ],
      "execution_count": 6,
      "outputs": [
        {
          "output_type": "stream",
          "text": [
            "X_train.shape (31367, 32, 32, 3)\n",
            "X_valid.shape (7842, 32, 32, 3)\n",
            "y_train.shape (31367,)\n",
            "y_valid.shape (7842,)\n"
          ],
          "name": "stdout"
        }
      ]
    },
    {
      "cell_type": "code",
      "metadata": {
        "colab": {
          "base_uri": "https://localhost:8080/"
        },
        "id": "5sSrFxRggDav",
        "outputId": "55ee29d1-b8c4-4748-d222-491ce6ac5eac"
      },
      "source": [
        "# Converting the labels into one hot encoding\n",
        "y_train = keras.utils.to_categorical(y_train, total_classes)\n",
        "y_valid = keras.utils.to_categorical(y_valid, total_classes)\n",
        "\n",
        "# The dimensions concur\n",
        "print(y_train.shape)\n",
        "print(y_valid.shape)"
      ],
      "execution_count": 7,
      "outputs": [
        {
          "output_type": "stream",
          "text": [
            "(31367, 43)\n",
            "(7842, 43)\n"
          ],
          "name": "stdout"
        }
      ]
    },
    {
      "cell_type": "code",
      "metadata": {
        "id": "h2GmWcV9gHXM"
      },
      "source": [
        "keras.backend.clear_session() # Clearing previous session if there was any\n",
        "np.random.seed(2666)"
      ],
      "execution_count": 8,
      "outputs": []
    },
    {
      "cell_type": "code",
      "metadata": {
        "colab": {
          "base_uri": "https://localhost:8080/"
        },
        "id": "nG3ncP8JgJvP",
        "outputId": "9048640e-8201-4ce8-f4a0-6ac099a8b4b6"
      },
      "source": [
        "# Create our model with Keras is straightforward\n",
        "\n",
        "\n",
        "model = keras.models.Sequential([\n",
        "    keras.layers.Conv2D(filters=36, kernel_size=(1,1), strides=1, activation=\"relu\", \n",
        "                        input_shape=(height, width, channels)),\n",
        "    BatchNormalization(),\n",
        "    Dropout(rate =0.5),              \n",
        "    keras.layers.Conv2D(filters=36, kernel_size=(3,3), strides=1, activation=\"relu\"),\n",
        "    keras.layers.MaxPooling2D(pool_size=(2,2), strides=2),\n",
        "    \n",
        "    keras.layers.Conv2D(filters=36, kernel_size=(3,3), strides=1, activation=\"relu\"),\n",
        "    keras.layers.MaxPooling2D(pool_size=(2,2), strides=2),\n",
        "    \n",
        "    keras.layers.Conv2D(filters=36, kernel_size=(3, 3), activation=\"relu\"),\n",
        "    keras.layers.MaxPooling2D(pool_size=(2,2), strides=2),\n",
        "    keras.layers.Flatten(),\n",
        "    keras.layers.Dropout(.5, input_shape=(1,1)),\n",
        "    keras.layers.Dense(86, kernel_regularizer=l2(0.01), bias_regularizer=l2(0.01)),\n",
        "    keras.layers.Dense(units=43, activation=\"softmax\",),\n",
        "])\n",
        "\n",
        "model.summary()"
      ],
      "execution_count": 108,
      "outputs": [
        {
          "output_type": "stream",
          "text": [
            "Model: \"sequential_42\"\n",
            "_________________________________________________________________\n",
            "Layer (type)                 Output Shape              Param #   \n",
            "=================================================================\n",
            "conv2d_180 (Conv2D)          (None, 32, 32, 36)        144       \n",
            "_________________________________________________________________\n",
            "batch_normalization_43 (Batc (None, 32, 32, 36)        144       \n",
            "_________________________________________________________________\n",
            "dropout_137 (Dropout)        (None, 32, 32, 36)        0         \n",
            "_________________________________________________________________\n",
            "conv2d_181 (Conv2D)          (None, 30, 30, 36)        11700     \n",
            "_________________________________________________________________\n",
            "max_pooling2d_131 (MaxPoolin (None, 15, 15, 36)        0         \n",
            "_________________________________________________________________\n",
            "conv2d_182 (Conv2D)          (None, 13, 13, 36)        11700     \n",
            "_________________________________________________________________\n",
            "max_pooling2d_132 (MaxPoolin (None, 6, 6, 36)          0         \n",
            "_________________________________________________________________\n",
            "conv2d_183 (Conv2D)          (None, 4, 4, 36)          11700     \n",
            "_________________________________________________________________\n",
            "max_pooling2d_133 (MaxPoolin (None, 2, 2, 36)          0         \n",
            "_________________________________________________________________\n",
            "flatten_42 (Flatten)         (None, 144)               0         \n",
            "_________________________________________________________________\n",
            "dropout_138 (Dropout)        (None, 144)               0         \n",
            "_________________________________________________________________\n",
            "dense_93 (Dense)             (None, 86)                12470     \n",
            "_________________________________________________________________\n",
            "dense_94 (Dense)             (None, 43)                3741      \n",
            "=================================================================\n",
            "Total params: 51,599\n",
            "Trainable params: 51,527\n",
            "Non-trainable params: 72\n",
            "_________________________________________________________________\n"
          ],
          "name": "stdout"
        }
      ]
    },
    {
      "cell_type": "code",
      "metadata": {
        "colab": {
          "base_uri": "https://localhost:8080/"
        },
        "id": "YYJKlF-NhCuP",
        "outputId": "400998ef-b7a2-4329-fbd6-c197390398e6"
      },
      "source": [
        "# Compilation of our model\n",
        "model.compile(loss=\"categorical_crossentropy\", optimizer=\"adam\", metrics=[\"accuracy\"])\n",
        "\n",
        "epochs = 25\n",
        "history = model.fit(X_train, y_train, batch_size=32, epochs=epochs, validation_data=(X_valid, y_valid))\n",
        "validation_data = (X_valid, y_valid)"
      ],
      "execution_count": 109,
      "outputs": [
        {
          "output_type": "stream",
          "text": [
            "Epoch 1/25\n",
            "981/981 [==============================] - 6s 6ms/step - loss: 3.2126 - accuracy: 0.2648 - val_loss: 1.1073 - val_accuracy: 0.7424\n",
            "Epoch 2/25\n",
            "981/981 [==============================] - 5s 6ms/step - loss: 1.2166 - accuracy: 0.6559 - val_loss: 0.5099 - val_accuracy: 0.8873\n",
            "Epoch 3/25\n",
            "981/981 [==============================] - 5s 6ms/step - loss: 0.7996 - accuracy: 0.7835 - val_loss: 0.3653 - val_accuracy: 0.9382\n",
            "Epoch 4/25\n",
            "981/981 [==============================] - 5s 6ms/step - loss: 0.6424 - accuracy: 0.8313 - val_loss: 0.2708 - val_accuracy: 0.9577\n",
            "Epoch 5/25\n",
            "981/981 [==============================] - 5s 6ms/step - loss: 0.5600 - accuracy: 0.8525 - val_loss: 0.2517 - val_accuracy: 0.9620\n",
            "Epoch 6/25\n",
            "981/981 [==============================] - 5s 5ms/step - loss: 0.5097 - accuracy: 0.8699 - val_loss: 0.2351 - val_accuracy: 0.9671\n",
            "Epoch 7/25\n",
            "981/981 [==============================] - 5s 5ms/step - loss: 0.4709 - accuracy: 0.8792 - val_loss: 0.2195 - val_accuracy: 0.9665\n",
            "Epoch 8/25\n",
            "981/981 [==============================] - 6s 6ms/step - loss: 0.4470 - accuracy: 0.8866 - val_loss: 0.1906 - val_accuracy: 0.9795\n",
            "Epoch 9/25\n",
            "981/981 [==============================] - 5s 6ms/step - loss: 0.4009 - accuracy: 0.9004 - val_loss: 0.1877 - val_accuracy: 0.9749\n",
            "Epoch 10/25\n",
            "981/981 [==============================] - 5s 6ms/step - loss: 0.3966 - accuracy: 0.9022 - val_loss: 0.1893 - val_accuracy: 0.9762\n",
            "Epoch 11/25\n",
            "981/981 [==============================] - 5s 6ms/step - loss: 0.3892 - accuracy: 0.9019 - val_loss: 0.1744 - val_accuracy: 0.9801\n",
            "Epoch 12/25\n",
            "981/981 [==============================] - 5s 6ms/step - loss: 0.3768 - accuracy: 0.9109 - val_loss: 0.1530 - val_accuracy: 0.9832\n",
            "Epoch 13/25\n",
            "981/981 [==============================] - 5s 5ms/step - loss: 0.3650 - accuracy: 0.9100 - val_loss: 0.1627 - val_accuracy: 0.9787\n",
            "Epoch 14/25\n",
            "981/981 [==============================] - 5s 5ms/step - loss: 0.3515 - accuracy: 0.9147 - val_loss: 0.1652 - val_accuracy: 0.9759\n",
            "Epoch 15/25\n",
            "981/981 [==============================] - 5s 5ms/step - loss: 0.3411 - accuracy: 0.9180 - val_loss: 0.1501 - val_accuracy: 0.9838\n",
            "Epoch 16/25\n",
            "981/981 [==============================] - 5s 5ms/step - loss: 0.3290 - accuracy: 0.9221 - val_loss: 0.1384 - val_accuracy: 0.9844\n",
            "Epoch 17/25\n",
            "981/981 [==============================] - 5s 5ms/step - loss: 0.3328 - accuracy: 0.9223 - val_loss: 0.1504 - val_accuracy: 0.9818\n",
            "Epoch 18/25\n",
            "981/981 [==============================] - 5s 6ms/step - loss: 0.3169 - accuracy: 0.9253 - val_loss: 0.1401 - val_accuracy: 0.9846\n",
            "Epoch 19/25\n",
            "981/981 [==============================] - 5s 6ms/step - loss: 0.3281 - accuracy: 0.9205 - val_loss: 0.1534 - val_accuracy: 0.9820\n",
            "Epoch 20/25\n",
            "981/981 [==============================] - 5s 5ms/step - loss: 0.3197 - accuracy: 0.9252 - val_loss: 0.1283 - val_accuracy: 0.9867\n",
            "Epoch 21/25\n",
            "981/981 [==============================] - 5s 5ms/step - loss: 0.2977 - accuracy: 0.9290 - val_loss: 0.1472 - val_accuracy: 0.9830\n",
            "Epoch 22/25\n",
            "981/981 [==============================] - 5s 5ms/step - loss: 0.2997 - accuracy: 0.9307 - val_loss: 0.1334 - val_accuracy: 0.9869\n",
            "Epoch 23/25\n",
            "981/981 [==============================] - 5s 5ms/step - loss: 0.3045 - accuracy: 0.9273 - val_loss: 0.1307 - val_accuracy: 0.9869\n",
            "Epoch 24/25\n",
            "981/981 [==============================] - 5s 6ms/step - loss: 0.2892 - accuracy: 0.9353 - val_loss: 0.1423 - val_accuracy: 0.9806\n",
            "Epoch 25/25\n",
            "981/981 [==============================] - 5s 6ms/step - loss: 0.3006 - accuracy: 0.9303 - val_loss: 0.1244 - val_accuracy: 0.9866\n"
          ],
          "name": "stdout"
        }
      ]
    },
    {
      "cell_type": "code",
      "metadata": {
        "colab": {
          "base_uri": "https://localhost:8080/",
          "height": 324
        },
        "id": "pf2kGRe1hz5p",
        "outputId": "67f56106-ae48-4c5c-e036-58475b5e2ff5"
      },
      "source": [
        "pd.DataFrame(history.history).plot(figsize=(8, 5))\n",
        "plt.grid(True)\n",
        "plt.gca().set_ylim(0, 1)\n",
        "plt.show()"
      ],
      "execution_count": 110,
      "outputs": [
        {
          "output_type": "display_data",
          "data": {
            "image/png": "[encoded data removed]",
            "text/plain": [
              "<Figure size 576x360 with 1 Axes>"
            ]
          },
          "metadata": {
            "tags": [],
            "needs_background": "light"
          }
        }
      ]
    },
    {
      "cell_type": "code",
      "metadata": {
        "id": "xB1Iv5ERh4DX"
      },
      "source": [
        "# Testing accuracy on the reserved test set\n",
        "test = pd.read_csv('/content/MyDrive/MyDrive/archive/Test.csv')\n",
        "\n",
        "labels = test[\"ClassId\"].values\n",
        "test_imgs = test[\"Path\"].values"
      ],
      "execution_count": 111,
      "outputs": []
    },
    {
      "cell_type": "code",
      "metadata": {
        "colab": {
          "base_uri": "https://localhost:8080/",
          "height": 317
        },
        "id": "ZwmWl9Kdkebw",
        "outputId": "181af8eb-1a92-40b1-cbdc-a1a2ce3b38e1"
      },
      "source": [
        "\n",
        "input_path='/content/MyDrive/MyDrive/archive/'\n",
        "# How an image looks like\n",
        "img_index = 56\n",
        "image = Image.open(input_path + test_imgs[img_index])\n",
        "img = image.resize((height,width))\n",
        "img = np.array(img) / 255.\n",
        "img = img.reshape(1, height, width, channels)\n",
        "\n",
        "print(img.shape)\n",
        "print(labels[img_index])\n",
        "plt.imshow(image)"
      ],
      "execution_count": 112,
      "outputs": [
        {
          "output_type": "stream",
          "text": [
            "(1, 32, 32, 3)\n",
            "5\n"
          ],
          "name": "stdout"
        },
        {
          "output_type": "execute_result",
          "data": {
            "text/plain": [
              "<matplotlib.image.AxesImage at 0x7fc9e61b6410>"
            ]
          },
          "metadata": {
            "tags": []
          },
          "execution_count": 112
        },
        {
          "output_type": "display_data",
          "data": {
            "image/png": "[encoded data removed]",
            "text/plain": [
              "<Figure size 432x288 with 1 Axes>"
            ]
          },
          "metadata": {
            "tags": [],
            "needs_background": "light"
          }
        }
      ]
    },
    {
      "cell_type": "code",
      "metadata": {
        "id": "rumV9RxoknGf"
      },
      "source": [
        "# Dictionary to map classes.\n",
        "classes = { \n",
        "    0:'Speed limit (20km/h)',\n",
        "    1:'Speed limit (30km/h)', \n",
        "    2:'Speed limit (50km/h)', \n",
        "    3:'Speed limit (60km/h)', \n",
        "    4:'Speed limit (70km/h)', \n",
        "    5:'Speed limit (80km/h)', \n",
        "    6:'End of speed limit (80km/h)', \n",
        "    7:'Speed limit (100km/h)', \n",
        "    8:'Speed limit (120km/h)', \n",
        "    9:'No passing', \n",
        "    10:'No passing veh over 3.5 tons', \n",
        "    11:'Right-of-way at intersection', \n",
        "    12:'Priority road', \n",
        "    13:'Yield', \n",
        "    14:'Stop', \n",
        "    15:'No vehicles', \n",
        "    16:'Veh > 3.5 tons prohibited', \n",
        "    17:'No entry', \n",
        "    18:'General caution', \n",
        "    19:'Dangerous curve left', \n",
        "    20:'Dangerous curve right', \n",
        "    21:'Double curve', \n",
        "    22:'Bumpy road', \n",
        "    23:'Slippery road', \n",
        "    24:'Road narrows on the right', \n",
        "    25:'Road work', \n",
        "    26:'Traffic signals', \n",
        "    27:'Pedestrians', \n",
        "    28:'Children crossing', \n",
        "    29:'Bicycles crossing', \n",
        "    30:'Beware of ice/snow',\n",
        "    31:'Wild animals crossing', \n",
        "    32:'End speed + passing limits', \n",
        "    33:'Turn right ahead', \n",
        "    34:'Turn left ahead', \n",
        "    35:'Ahead only', \n",
        "    36:'Go straight or right', \n",
        "    37:'Go straight or left', \n",
        "    38:'Keep right', \n",
        "    39:'Keep left', \n",
        "    40:'Roundabout mandatory', \n",
        "    41:'End of no passing', \n",
        "    42:'End no passing veh > 3.5 tons'\n",
        "          }"
      ],
      "execution_count": 40,
      "outputs": []
    },
    {
      "cell_type": "code",
      "metadata": {
        "colab": {
          "base_uri": "https://localhost:8080/"
        },
        "id": "iND870mBk5B4",
        "outputId": "87daab51-2c37-4fc7-b6e4-e5055094a1e7"
      },
      "source": [
        "# Prediction of this image\n",
        "pred = model.predict_classes(img)[0]\n",
        "print(pred)\n",
        "\n",
        "sign = classes[pred]\n",
        "print(sign)"
      ],
      "execution_count": 113,
      "outputs": [
        {
          "output_type": "stream",
          "text": [
            "5\n",
            "Speed limit (80km/h)\n"
          ],
          "name": "stdout"
        }
      ]
    },
    {
      "cell_type": "code",
      "metadata": {
        "id": "vg6WbeqYk8P2"
      },
      "source": [
        "pickle_in = open('/content/MyDrive/MyDrive/pickle/X_test.pickle',\"rb\")\n",
        "X_test = pickle.load(pickle_in)"
      ],
      "execution_count": 114,
      "outputs": []
    },
    {
      "cell_type": "code",
      "metadata": {
        "colab": {
          "base_uri": "https://localhost:8080/"
        },
        "id": "B4O_2R8ik9mj",
        "outputId": "1a6590e2-520f-4df0-9dac-d8224ca3aba6"
      },
      "source": [
        "# Prediction of test set\n",
        "pred = model.predict_classes(X_test)\n",
        "\n",
        "#Accuracy with the test data\n",
        "print(\"Accuracy score = %\",100*accuracy_score(labels, pred))\n",
        "end = time.time()\n",
        "print(\"Time taken: \", round(end-start,5), \"seconds\")"
      ],
      "execution_count": 115,
      "outputs": [
        {
          "output_type": "stream",
          "text": [
            "Accuracy score = % 95.46318289786223\n",
            "Time taken:  3335.78471 seconds\n"
          ],
          "name": "stdout"
        }
      ]
    },
    {
      "cell_type": "code",
      "metadata": {
        "id": "zbKbfN03lA4n"
      },
      "source": [
        ""
      ],
      "execution_count": null,
      "outputs": []
    }
  ]
}